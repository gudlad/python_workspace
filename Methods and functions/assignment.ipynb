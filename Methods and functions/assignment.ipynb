{
 "cells": [
  {
   "cell_type": "markdown",
   "id": "1b5bd26c",
   "metadata": {},
   "source": [
    "# Python Programming Practice  Exercise 1\n",
    "                                                                                                                                       GURUPRASAD                                                               4SU19CS031 "
   ]
  },
  {
   "cell_type": "code",
   "execution_count": 1,
   "id": "cfe50b13",
   "metadata": {},
   "outputs": [
    {
     "name": "stdout",
     "output_type": "stream",
     "text": [
      "(Press 'any key' for answer and 'quit' to exit )\n",
      " What is your question?  who am i?\n",
      "Ask again later\n",
      "(Press 'any key' for answer and 'quit' to exit )\n",
      " What is your question?  where are you?:\n",
      "My sources say no\n",
      "(Press 'any key' for answer and 'quit' to exit )\n",
      " What is your question?  quit\n",
      "Have a nice day!!!\n"
     ]
    }
   ],
   "source": [
    "'''\n",
    "Question 1: Design Magic 8 Ball Program In Python \n",
    "'''\n",
    "from random import choice\n",
    "\n",
    "def magic8ball():\n",
    "    response=input(\"(Press 'any key' for answer and 'quit' to exit )\\n What is your question?  \")\n",
    "    EightBall_answers=[\n",
    "         \"I didn't get that can you repeat\",\n",
    "         \"Outlook good\",\n",
    "         \"You may rely on it\",\n",
    "         \"Ask again later\",\n",
    "         \"Concentrate and try again\",\n",
    "         \"Reply hazy,try again\",\n",
    "         \"My reply is no\",\n",
    "         \"My sources say no\"\n",
    "        ]   \n",
    "    if response=='quit':\n",
    "        print(\"Have a nice day!!!\")\n",
    "    else:\n",
    "        print(choice(EightBall_answers))\n",
    "        magic8ball()\n",
    "magic8ball()\n"
   ]
  },
  {
   "cell_type": "code",
   "execution_count": 9,
   "id": "82165c35",
   "metadata": {},
   "outputs": [
    {
     "name": "stdout",
     "output_type": "stream",
     "text": [
      "Enter the number of elements :3\n",
      "Enter 3 values :\n",
      "1\n",
      "2\n",
      "3\n",
      "The list : ['1', '2', '3']\n",
      "sum :6   avg : 2.0   product : 6\n"
     ]
    }
   ],
   "source": [
    "'''\n",
    "Question 2: Write a program to find the sum ,average and product \n",
    "of n numbers in the list . \n",
    "Program should read n numbers from the user into a list . \n",
    "'''\n",
    "\n",
    "newlist=list() # creating empty list\n",
    "n = int(input('Enter the number of elements :'))\n",
    "print(f'Enter {n} values :')\n",
    "for x in range(0,n):\n",
    "    ele=input()\n",
    "    newlist.append(ele)\n",
    "print(\"The list :\",newlist)\n",
    "# finding the sum\n",
    "sum=0\n",
    "for x in newlist:\n",
    "    sum=sum + int(x)\n",
    "avg=sum/n\n",
    "\n",
    "product=1\n",
    "for x in newlist:\n",
    "    product=product*int(x)\n",
    "\n",
    "print(f'sum :{sum}   avg : {avg}   product : {product}')\n"
   ]
  },
  {
   "cell_type": "code",
   "execution_count": 28,
   "id": "f7f1daf8",
   "metadata": {
    "scrolled": true
   },
   "outputs": [
    {
     "name": "stdout",
     "output_type": "stream",
     "text": [
      "Enter n :2\n",
      "0 1 "
     ]
    }
   ],
   "source": [
    "'''\n",
    "Question 3: \n",
    "Define a Python function with suitable parameters to generate \n",
    "first N Fibonacci numbers.\n",
    "The first two Fibonacci numbers are 0 and 1 and \n",
    "the Fibonacci sequence is defined as function F as Dn = Fn-1+ Fn-2 . \n",
    "Write a Python program which accepts a value for N (where N >0 ) as input \n",
    "and pass this value to the function. \n",
    "Display suitable error message \n",
    "if the condition for input value is not followed\n",
    "\n",
    "'''\n",
    "# fib 0 = 0   fib 1 = 1   fib 3 = 1   fib 4 = 2   fib 5 = 3\n",
    "def fibonacci(N):\n",
    "    f1=0\n",
    "    f2=1\n",
    "    if N>0:\n",
    "        if N==1:\n",
    "            print(f1,end=' ')\n",
    "            return \n",
    "        print(f1,end=' ')\n",
    "        print(f2,end=' ')\n",
    "        for i in range(0,N-2):\n",
    "            f3=f1+f2\n",
    "            print(f3,end=' ')\n",
    "            f1=f2\n",
    "            f2=f3\n",
    "    else:\n",
    "        print(\"value of N should be greater than zero!!!\")\n",
    "        \n",
    "N=int(input(\"Enter n :\"));\n",
    "fibonacci(N)"
   ]
  },
  {
   "cell_type": "code",
   "execution_count": 13,
   "id": "ed9e2062",
   "metadata": {},
   "outputs": [
    {
     "name": "stdout",
     "output_type": "stream",
     "text": [
      "Enter m and n values :1 20\n",
      "you entered m:1 n:20\n",
      "Prime numbers between 1 and 20 are :\n",
      "2\n",
      "3\n",
      "5\n",
      "7\n",
      "11\n",
      "13\n",
      "17\n",
      "19\n"
     ]
    }
   ],
   "source": [
    "'''\n",
    "Question 4: Define  Python function with suitable parameters \n",
    "    to generate prime numbers between two integer values . \n",
    "    Write a Python program which generates prime number between  m and n \n",
    "    using function defined.\n",
    "'''\n",
    "\n",
    "m,n=input(\"Enter m and n values :\").split(' ')\n",
    "m=int(m)\n",
    "n=int(n)\n",
    "print(f'you entered m:{m} n:{n}')\n",
    "print(f'Prime numbers between {m} and {n} are :')\n",
    "\n",
    "def primeGenerator(a,b):\n",
    "    for x in range(a,b):\n",
    "        isprime=True\n",
    "        for i in range(2,x):\n",
    "            if(x%i)==0:\n",
    "                isprime=False\n",
    "                break\n",
    "        if(isprime==True):\n",
    "            print(x)\n",
    "            \n",
    "primeGenerator(m+1,n)                            "
   ]
  },
  {
   "cell_type": "code",
   "execution_count": null,
   "id": "ef3ea7db",
   "metadata": {},
   "outputs": [],
   "source": []
  }
 ],
 "metadata": {
  "kernelspec": {
   "display_name": "Python 3 (ipykernel)",
   "language": "python",
   "name": "python3"
  },
  "language_info": {
   "codemirror_mode": {
    "name": "ipython",
    "version": 3
   },
   "file_extension": ".py",
   "mimetype": "text/x-python",
   "name": "python",
   "nbconvert_exporter": "python",
   "pygments_lexer": "ipython3",
   "version": "3.8.8"
  }
 },
 "nbformat": 4,
 "nbformat_minor": 5
}
