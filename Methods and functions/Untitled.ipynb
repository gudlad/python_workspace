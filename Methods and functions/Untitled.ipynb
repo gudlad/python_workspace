{
 "cells": [
  {
   "cell_type": "code",
   "execution_count": 1,
   "id": "d50a9ecf",
   "metadata": {},
   "outputs": [
    {
     "name": "stdout",
     "output_type": "stream",
     "text": [
      "80\n",
      "42\n",
      "27\n",
      "22\n",
      "59\n",
      "48\n",
      "12\n",
      "95\n",
      "44\n"
     ]
    }
   ],
   "source": [
    "import random\n",
    "for x in range(1,10):\n",
    "    print(random.randint(1,100))\n",
    "\n",
    "\n"
   ]
  },
  {
   "cell_type": "code",
   "execution_count": null,
   "id": "c64bc11f",
   "metadata": {},
   "outputs": [],
   "source": []
  }
 ],
 "metadata": {
  "kernelspec": {
   "display_name": "Python 3 (ipykernel)",
   "language": "python",
   "name": "python3"
  },
  "language_info": {
   "codemirror_mode": {
    "name": "ipython",
    "version": 3
   },
   "file_extension": ".py",
   "mimetype": "text/x-python",
   "name": "python",
   "nbconvert_exporter": "python",
   "pygments_lexer": "ipython3",
   "version": "3.8.8"
  }
 },
 "nbformat": 4,
 "nbformat_minor": 5
}
