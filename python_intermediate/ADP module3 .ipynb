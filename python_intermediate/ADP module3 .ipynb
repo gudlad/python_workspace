{
 "cells": [
  {
   "cell_type": "markdown",
   "id": "5048dac9",
   "metadata": {},
   "source": [
    "# MODULE 3"
   ]
  },
  {
   "cell_type": "code",
   "execution_count": 8,
   "id": "a0025638",
   "metadata": {},
   "outputs": [],
   "source": [
    "import re"
   ]
  },
  {
   "cell_type": "markdown",
   "id": "e6791eb9",
   "metadata": {},
   "source": [
    "### re search() method "
   ]
  },
  {
   "cell_type": "code",
   "execution_count": 4,
   "id": "5022d2cc",
   "metadata": {},
   "outputs": [
    {
     "name": "stdout",
     "output_type": "stream",
     "text": [
      "String found at:  0\n"
     ]
    }
   ],
   "source": [
    "string = \"at what time?\"\n",
    "match = re.search('at',string)\n",
    "if (match):\n",
    "    print(\"String found at: \" ,match.start())\n",
    "else:\n",
    "    print(\"String not found!\") # The start() function returns the start index of the matched string."
   ]
  },
  {
   "cell_type": "code",
   "execution_count": 13,
   "id": "eafb69ff",
   "metadata": {},
   "outputs": [
    {
     "name": "stdout",
     "output_type": "stream",
     "text": [
      "dob found 04-90-80\n"
     ]
    }
   ],
   "source": [
    "try:\n",
    "    data='my no is 04-90-80'\n",
    "    phonenum=re.compile(r'\\d\\d-\\d\\d-\\d\\d') # to use the \\ use r (raw)\n",
    "    # now phonenum becomes object of re module\n",
    "    # match object mno \n",
    "    mno=phonenum.search(data)  \n",
    "    print(\"dob found\",mno.group())\n",
    "except AttributeError:\n",
    "    print(\"can't make a group\")"
   ]
  },
  {
   "cell_type": "code",
   "execution_count": 84,
   "id": "b98248ff",
   "metadata": {},
   "outputs": [
    {
     "name": "stdout",
     "output_type": "stream",
     "text": [
      "usn found 4SU19CS031\n",
      "region code found 4\n",
      "clg code found SU\n",
      "year of admission found 19\n",
      "branch code found CS\n",
      "register number found 031\n",
      "match found ('4', 'SU', '19', 'CS', '031')\n"
     ]
    }
   ],
   "source": [
    "try:\n",
    "    phonenum=re.compile(r'(\\d)(\\w\\w)(\\d\\d)(\\w\\w)(\\d\\d\\d)') # to use the \\ use r (raw)\n",
    "    # now phonenum becomes object of re module\n",
    "    # match object mno \n",
    "    mno=phonenum.search('My USN is 4SU19CS031')  \n",
    "    print(\"usn found\",mno.group())\n",
    "    print(\"region code found\",mno.group(1))\n",
    "    print(\"clg code found\",mno.group(2))\n",
    "    print(\"year of admission found\",mno.group(3))\n",
    "    print(\"branch code found\",mno.group(4)) \n",
    "    print(\"register number found\",mno.group(5))\n",
    "    print(\"match found\",mno.groups())  # returns tuple\n",
    "except AttributeError:\n",
    "    print(\"can't make a group\")"
   ]
  },
  {
   "cell_type": "markdown",
   "id": "8c0d1694",
   "metadata": {},
   "source": [
    "## optional ?"
   ]
  },
  {
   "cell_type": "code",
   "execution_count": 32,
   "id": "98038c84",
   "metadata": {},
   "outputs": [
    {
     "name": "stdout",
     "output_type": "stream",
     "text": [
      "07-2001\n"
     ]
    }
   ],
   "source": [
    "match=re.compile(r'(\\d\\d-)?\\d\\d-\\d\\d\\d\\d') # here (\\d\\d-)? is optional part \n",
    "mob=match.search(\"my dob is 07-2001\")\n",
    "print(mob.group())"
   ]
  },
  {
   "cell_type": "code",
   "execution_count": 34,
   "id": "d94e3091",
   "metadata": {},
   "outputs": [
    {
     "name": "stdout",
     "output_type": "stream",
     "text": [
      "Batwoman\n",
      "Batman\n"
     ]
    }
   ],
   "source": [
    "match=re.compile(r'Bat(wo)?man') \n",
    "mob=match.search(\"I like Batwoman\")\n",
    "print(mob.group())\n",
    "mob1=match.search(\"I like Batman\")\n",
    "print(mob1.group())"
   ]
  },
  {
   "cell_type": "markdown",
   "id": "6b780b26",
   "metadata": {},
   "source": [
    "### zero or more *    / \\    one or more +"
   ]
  },
  {
   "cell_type": "code",
   "execution_count": 49,
   "id": "376c4491",
   "metadata": {},
   "outputs": [
    {
     "name": "stdout",
     "output_type": "stream",
     "text": [
      "BatWman\n",
      "BatWoman\n",
      "BatWoabcdefgman\n"
     ]
    }
   ],
   "source": [
    "match=re.compile(r'Bat(Wo*)?man') # zero or more optional occurance of o\n",
    "mob=match.search(\"I like BatWman\")\n",
    "print(mob.group())\n",
    "##\n",
    "match=re.compile(r'Bat(Wo+)?man') # one or more optional occurance of a\n",
    "mob=match.search(\"I like BatWoman\")\n",
    "print(mob.group())\n",
    "##\n",
    "match=re.compile(r'Bat(Wo.*)?man')# one or more opitional occurance of any char\n",
    "mob=match.search(\"I like BatWoabcdefgman\")\n",
    "print(mob.group())"
   ]
  },
  {
   "cell_type": "markdown",
   "id": "d8ed08d7",
   "metadata": {},
   "source": [
    "### exactly the specified no of times using {} "
   ]
  },
  {
   "cell_type": "code",
   "execution_count": 68,
   "id": "654fa3cb",
   "metadata": {},
   "outputs": [
    {
     "name": "stdout",
     "output_type": "stream",
     "text": [
      "haha\n"
     ]
    }
   ],
   "source": [
    "match=re.compile(r'(ha){2}') \n",
    "mob=match.search(\"I laugh hahahaha\") \n",
    "# serch method will return after encountering\n",
    "# the first occurance\n",
    "print(mob.group())"
   ]
  },
  {
   "cell_type": "markdown",
   "id": "7164b648",
   "metadata": {},
   "source": [
    "## greedy matching"
   ]
  },
  {
   "cell_type": "code",
   "execution_count": 71,
   "id": "2dc2d0ba",
   "metadata": {},
   "outputs": [
    {
     "name": "stdout",
     "output_type": "stream",
     "text": [
      "hahahahaha\n"
     ]
    }
   ],
   "source": [
    "match=re.compile(r'(ha){1,5}') # match max no occurances i.e 3\n",
    "mob=match.search(\"I laugh hahahahahahahahahahah\") \n",
    "print(mob.group())"
   ]
  },
  {
   "cell_type": "markdown",
   "id": "abf99de6",
   "metadata": {},
   "source": [
    "## non-greedy matching using the ? "
   ]
  },
  {
   "cell_type": "code",
   "execution_count": 72,
   "id": "50158673",
   "metadata": {},
   "outputs": [
    {
     "name": "stdout",
     "output_type": "stream",
     "text": [
      "haha\n"
     ]
    }
   ],
   "source": [
    "match=re.compile(r'(ha){2,5}?') # match min no occurances i.e 2\n",
    "mob=match.search(\"I laugh hahahahahahahahahahah\") \n",
    "print(mob.group())"
   ]
  },
  {
   "cell_type": "markdown",
   "id": "b7b99ed0",
   "metadata": {},
   "source": [
    "### search method of re module/class"
   ]
  },
  {
   "cell_type": "code",
   "execution_count": 82,
   "id": "7c25a7a6",
   "metadata": {},
   "outputs": [
    {
     "name": "stdout",
     "output_type": "stream",
     "text": [
      "mit\n"
     ]
    }
   ],
   "source": [
    "str='mit mits mitn mitm mitp'\n",
    "res=re.search('mit',str) # the first argument is the string to search\n",
    "# the  \n",
    "print(res.group())"
   ]
  },
  {
   "cell_type": "markdown",
   "id": "03df2d64",
   "metadata": {},
   "source": [
    "To ignore the case use re.IGNORECASE or re.I as second argument"
   ]
  },
  {
   "cell_type": "code",
   "execution_count": 10,
   "id": "edd5922f",
   "metadata": {},
   "outputs": [
    {
     "name": "stdout",
     "output_type": "stream",
     "text": [
      "Robocop\n"
     ]
    }
   ],
   "source": [
    "match=re.compile(r'robocop',re.I) \n",
    "mob=match.search(\"Robocop is part man,part machine,all cop.\")\n",
    "print(mob.group())"
   ]
  },
  {
   "cell_type": "markdown",
   "id": "646f44af",
   "metadata": {},
   "source": [
    "# findall()  method in re module\n",
    "returns all the occurance of the string"
   ]
  },
  {
   "cell_type": "code",
   "execution_count": 85,
   "id": "81fc35ee",
   "metadata": {},
   "outputs": [
    {
     "name": "stdout",
     "output_type": "stream",
     "text": [
      "['ain', 'ain', 'ain']\n"
     ]
    }
   ],
   "source": [
    "txt='The rain in Spain is vain'\n",
    "x=re.findall('ain',txt) # the findall will return a list of all matches\n",
    "print(x) "
   ]
  },
  {
   "cell_type": "code",
   "execution_count": 88,
   "id": "2a835061",
   "metadata": {},
   "outputs": [
    {
     "name": "stdout",
     "output_type": "stream",
     "text": [
      "[('4', 'SU', '19', 'CS', '031'), ('4', 'SU', '19', 'CS', '033')]\n"
     ]
    }
   ],
   "source": [
    "phonenum=re.compile(r'(\\d)(\\w\\w)(\\d\\d)(\\w\\w)(\\d\\d\\d)') # to use the \\ use r (raw)\n",
    "mno=phonenum.findall('My USN is 4SU19CS031 and freinds usn is 4SU19CS033')  \n",
    "print(mno)  #if target contains group then it will return list of tuple"
   ]
  },
  {
   "cell_type": "markdown",
   "id": "04947e89",
   "metadata": {},
   "source": [
    ":::::::::::::::::::::METACHARACTERS:::::::::::::::::::\n",
    "^  start with  ex: ^guru\n",
    "$  end with    ex:  guru$\n",
    "|  or   guru|prasad matches guru or prasad\n",
    "\\ escape character"
   ]
  },
  {
   "cell_type": "code",
   "execution_count": null,
   "id": "8f1bc016",
   "metadata": {},
   "outputs": [],
   "source": [
    "::::::::::::::::::::::character classes:::::::::::::::::::\n",
    "\\d matches digits\n",
    "\\D mathes nondigits\n",
    "\\w matches charcters,number,underscore\n",
    "\\W mathes special charaters (@,*,/.......)\n",
    "\\s mathes spaces\n",
    "\\S mathes non space "
   ]
  },
  {
   "cell_type": "code",
   "execution_count": 92,
   "id": "6bb54b2d",
   "metadata": {},
   "outputs": [
    {
     "name": "stdout",
     "output_type": "stream",
     "text": [
      "['34 apple', '33 grape', '45 babab']\n",
      "['34_apple', '33_grape', '45_babab', '33apc']\n",
      "['34', '33', '45', '33']\n"
     ]
    }
   ],
   "source": [
    "match=re.compile(r'\\d+\\s\\w+') #\\w also matches the _\n",
    "res=match.findall('34 apple,33 grape,45 babab,33apc')\n",
    "print(res)\n",
    "match=re.compile(r'\\d+\\w+')\n",
    "res=match.findall('34_apple,33_grape,45_babab,33apc')\n",
    "print(res)\n",
    "match=re.compile(r'\\d+')\n",
    "res=match.findall('34_apple,33_grape,45_babab,33apc')\n",
    "print(res)"
   ]
  },
  {
   "cell_type": "code",
   "execution_count": 114,
   "id": "0d61d44f",
   "metadata": {},
   "outputs": [
    {
     "name": "stdout",
     "output_type": "stream",
     "text": [
      "['u', 'i', 'i', 'a', 'e', 'a', 'i']\n",
      "['U', 'd', 'p', ' ', 's', ' ', ' ', 'c', 'l', 'n', ' ', 'c', 't', 'y']\n",
      "guru:\n",
      "guru\n"
     ]
    }
   ],
   "source": [
    "match=re.compile(r'[aeiou]') # mathes vowels\n",
    "res=match.findall('Udupi is a clean city')\n",
    "print(res)\n",
    "\n",
    "match=re.compile(r'[^aeiou]') # mathes consonants\n",
    "res=match.findall('Udupi is a clean city')\n",
    "print(res)\n",
    "\n",
    "match=re.compile(r'^guru:') # mathes a \n",
    "res=match.search('guru:prasad is guru only')\n",
    "print(res.group())\n",
    "\n",
    "match=re.compile(r'guru$') # mathes a \n",
    "res=match.search(' hello prasadguru')\n",
    "print(res.group())"
   ]
  },
  {
   "cell_type": "code",
   "execution_count": 113,
   "id": "7f1978d4",
   "metadata": {},
   "outputs": [
    {
     "name": "stdout",
     "output_type": "stream",
     "text": [
      "99\n",
      "2323\n"
     ]
    }
   ],
   "source": [
    "match=re.compile(r'^\\d\\d') # startind with 2 digits\n",
    "res=match.search('99is guruprasad')\n",
    "print(res.group())\n",
    "\n",
    "match=re.compile(r'\\d+$') # string ending with digits\n",
    "res=match.search('guruprasad is2323')\n",
    "print(res.group())"
   ]
  },
  {
   "cell_type": "markdown",
   "id": "3b94bbcc",
   "metadata": {},
   "source": [
    "## sub() function in re class"
   ]
  },
  {
   "cell_type": "markdown",
   "id": "61906346",
   "metadata": {},
   "source": [
    "The re.sub() function is used to replace occurrences of a particular sub-string with another sub-string.\n",
    "\n",
    "This function takes as input the following:\n",
    "\n",
    "    The sub-string to replace\n",
    "    The sub-string to replace with\n",
    "    The actual string"
   ]
  },
  {
   "cell_type": "code",
   "execution_count": 1,
   "id": "0fbc3baf",
   "metadata": {},
   "outputs": [
    {
     "name": "stdout",
     "output_type": "stream",
     "text": [
      "at!!!what!!!time?\n"
     ]
    }
   ],
   "source": [
    "import re\n",
    "\n",
    "string = \"at what time?\"\n",
    "match = re.sub(\"\\s\",\"!!!\",string)\n",
    "print (match) # here \\s i.e space is replaced with !!!"
   ]
  },
  {
   "cell_type": "code",
   "execution_count": 11,
   "id": "c7aa286c",
   "metadata": {},
   "outputs": [
    {
     "data": {
      "text/plain": [
       "'Censored gave the the secret documents to Censored'"
      ]
     },
     "execution_count": 11,
     "metadata": {},
     "output_type": "execute_result"
    }
   ],
   "source": [
    "agentName=re.compile(r'Agent \\w+')\n",
    "agentName.sub('Censored',\"Agent alice gave the the secret documents to Agent Bob\")"
   ]
  },
  {
   "cell_type": "code",
   "execution_count": null,
   "id": "b556f9e8",
   "metadata": {},
   "outputs": [],
   "source": [
    "agentName=re.compile(r'Agent (\\w)\\w*')\n",
    "agentName.sub('Censored',\"Agent alice gave the the secret documents to Agent Bob\")"
   ]
  },
  {
   "cell_type": "markdown",
   "id": "278fccf8",
   "metadata": {},
   "source": [
    "## re.split()             \n",
    "note : extra "
   ]
  },
  {
   "cell_type": "code",
   "execution_count": null,
   "id": "a2f3748b",
   "metadata": {},
   "outputs": [],
   "source": [
    "re.split()\n",
    "\n",
    "The re.split() function splits the string at every occurrence of the sub-string and returns a list of strings which have been split.\n",
    "\n",
    "Consider the following example to get a better idea of what this function does:"
   ]
  },
  {
   "cell_type": "code",
   "execution_count": 6,
   "id": "cf068639",
   "metadata": {},
   "outputs": [
    {
     "name": "stdout",
     "output_type": "stream",
     "text": [
      "['', 't wh', 't time?']\n"
     ]
    }
   ],
   "source": [
    "string = \"at what time?\"\n",
    "match = re.split('a',string)\n",
    "print (match)"
   ]
  },
  {
   "cell_type": "code",
   "execution_count": 11,
   "id": "df4c2ad6",
   "metadata": {},
   "outputs": [
    {
     "data": {
      "text/plain": [
       "'/home/prasad/python_workspace/python_intermediate'"
      ]
     },
     "execution_count": 11,
     "metadata": {},
     "output_type": "execute_result"
    }
   ],
   "source": [
    "pwd"
   ]
  },
  {
   "cell_type": "markdown",
   "id": "4485ffc4",
   "metadata": {},
   "source": [
    "# os module"
   ]
  },
  {
   "cell_type": "code",
   "execution_count": 3,
   "id": "b01ee488",
   "metadata": {},
   "outputs": [],
   "source": [
    "import os"
   ]
  },
  {
   "cell_type": "code",
   "execution_count": 9,
   "id": "1157b49c",
   "metadata": {},
   "outputs": [
    {
     "data": {
      "text/plain": [
       "['CLD_CONTINUED',\n",
       " 'CLD_DUMPED',\n",
       " 'CLD_EXITED',\n",
       " 'CLD_TRAPPED',\n",
       " 'DirEntry',\n",
       " 'EX_CANTCREAT',\n",
       " 'EX_CONFIG',\n",
       " 'EX_DATAERR',\n",
       " 'EX_IOERR',\n",
       " 'EX_NOHOST',\n",
       " 'EX_NOINPUT',\n",
       " 'EX_NOPERM',\n",
       " 'EX_NOUSER',\n",
       " 'EX_OK',\n",
       " 'EX_OSERR',\n",
       " 'EX_OSFILE',\n",
       " 'EX_PROTOCOL',\n",
       " 'EX_SOFTWARE',\n",
       " 'EX_TEMPFAIL',\n",
       " 'EX_UNAVAILABLE',\n",
       " 'EX_USAGE',\n",
       " 'F_LOCK',\n",
       " 'F_OK',\n",
       " 'F_TEST',\n",
       " 'F_TLOCK',\n",
       " 'F_ULOCK',\n",
       " 'MutableMapping',\n",
       " 'NGROUPS_MAX',\n",
       " 'O_ACCMODE',\n",
       " 'O_APPEND',\n",
       " 'O_ASYNC',\n",
       " 'O_CLOEXEC',\n",
       " 'O_CREAT',\n",
       " 'O_DIRECT',\n",
       " 'O_DIRECTORY',\n",
       " 'O_DSYNC',\n",
       " 'O_EXCL',\n",
       " 'O_LARGEFILE',\n",
       " 'O_NDELAY',\n",
       " 'O_NOATIME',\n",
       " 'O_NOCTTY',\n",
       " 'O_NOFOLLOW',\n",
       " 'O_NONBLOCK',\n",
       " 'O_RDONLY',\n",
       " 'O_RDWR',\n",
       " 'O_RSYNC',\n",
       " 'O_SYNC',\n",
       " 'O_TRUNC',\n",
       " 'O_WRONLY',\n",
       " 'POSIX_FADV_DONTNEED',\n",
       " 'POSIX_FADV_NOREUSE',\n",
       " 'POSIX_FADV_NORMAL',\n",
       " 'POSIX_FADV_RANDOM',\n",
       " 'POSIX_FADV_SEQUENTIAL',\n",
       " 'POSIX_FADV_WILLNEED',\n",
       " 'POSIX_SPAWN_CLOSE',\n",
       " 'POSIX_SPAWN_DUP2',\n",
       " 'POSIX_SPAWN_OPEN',\n",
       " 'PRIO_PGRP',\n",
       " 'PRIO_PROCESS',\n",
       " 'PRIO_USER',\n",
       " 'P_ALL',\n",
       " 'P_NOWAIT',\n",
       " 'P_NOWAITO',\n",
       " 'P_PGID',\n",
       " 'P_PID',\n",
       " 'P_WAIT',\n",
       " 'PathLike',\n",
       " 'RTLD_DEEPBIND',\n",
       " 'RTLD_GLOBAL',\n",
       " 'RTLD_LAZY',\n",
       " 'RTLD_LOCAL',\n",
       " 'RTLD_NODELETE',\n",
       " 'RTLD_NOLOAD',\n",
       " 'RTLD_NOW',\n",
       " 'R_OK',\n",
       " 'SCHED_BATCH',\n",
       " 'SCHED_FIFO',\n",
       " 'SCHED_IDLE',\n",
       " 'SCHED_OTHER',\n",
       " 'SCHED_RESET_ON_FORK',\n",
       " 'SCHED_RR',\n",
       " 'SEEK_CUR',\n",
       " 'SEEK_END',\n",
       " 'SEEK_SET',\n",
       " 'ST_APPEND',\n",
       " 'ST_MANDLOCK',\n",
       " 'ST_NOATIME',\n",
       " 'ST_NODEV',\n",
       " 'ST_NODIRATIME',\n",
       " 'ST_NOEXEC',\n",
       " 'ST_NOSUID',\n",
       " 'ST_RDONLY',\n",
       " 'ST_RELATIME',\n",
       " 'ST_SYNCHRONOUS',\n",
       " 'ST_WRITE',\n",
       " 'TMP_MAX',\n",
       " 'WCONTINUED',\n",
       " 'WCOREDUMP',\n",
       " 'WEXITED',\n",
       " 'WEXITSTATUS',\n",
       " 'WIFCONTINUED',\n",
       " 'WIFEXITED',\n",
       " 'WIFSIGNALED',\n",
       " 'WIFSTOPPED',\n",
       " 'WNOHANG',\n",
       " 'WNOWAIT',\n",
       " 'WSTOPPED',\n",
       " 'WSTOPSIG',\n",
       " 'WTERMSIG',\n",
       " 'WUNTRACED',\n",
       " 'W_OK',\n",
       " 'XATTR_CREATE',\n",
       " 'XATTR_REPLACE',\n",
       " 'XATTR_SIZE_MAX',\n",
       " 'X_OK',\n",
       " '_Environ',\n",
       " '__all__',\n",
       " '__builtins__',\n",
       " '__cached__',\n",
       " '__doc__',\n",
       " '__file__',\n",
       " '__loader__',\n",
       " '__name__',\n",
       " '__package__',\n",
       " '__spec__',\n",
       " '_check_methods',\n",
       " '_execvpe',\n",
       " '_exists',\n",
       " '_exit',\n",
       " '_fspath',\n",
       " '_fwalk',\n",
       " '_get_exports_list',\n",
       " '_putenv',\n",
       " '_spawnvef',\n",
       " '_unsetenv',\n",
       " '_wrap_close',\n",
       " 'abc',\n",
       " 'abort',\n",
       " 'access',\n",
       " 'altsep',\n",
       " 'chdir',\n",
       " 'chmod',\n",
       " 'chown',\n",
       " 'chroot',\n",
       " 'close',\n",
       " 'closerange',\n",
       " 'confstr',\n",
       " 'confstr_names',\n",
       " 'cpu_count',\n",
       " 'ctermid',\n",
       " 'curdir',\n",
       " 'defpath',\n",
       " 'device_encoding',\n",
       " 'devnull',\n",
       " 'dup',\n",
       " 'dup2',\n",
       " 'environ',\n",
       " 'environb',\n",
       " 'error',\n",
       " 'execl',\n",
       " 'execle',\n",
       " 'execlp',\n",
       " 'execlpe',\n",
       " 'execv',\n",
       " 'execve',\n",
       " 'execvp',\n",
       " 'execvpe',\n",
       " 'extsep',\n",
       " 'fchdir',\n",
       " 'fchmod',\n",
       " 'fchown',\n",
       " 'fdatasync',\n",
       " 'fdopen',\n",
       " 'fork',\n",
       " 'forkpty',\n",
       " 'fpathconf',\n",
       " 'fsdecode',\n",
       " 'fsencode',\n",
       " 'fspath',\n",
       " 'fstat',\n",
       " 'fstatvfs',\n",
       " 'fsync',\n",
       " 'ftruncate',\n",
       " 'fwalk',\n",
       " 'get_blocking',\n",
       " 'get_exec_path',\n",
       " 'get_inheritable',\n",
       " 'get_terminal_size',\n",
       " 'getcwd',\n",
       " 'getcwdb',\n",
       " 'getegid',\n",
       " 'getenv',\n",
       " 'getenvb',\n",
       " 'geteuid',\n",
       " 'getgid',\n",
       " 'getgrouplist',\n",
       " 'getgroups',\n",
       " 'getloadavg',\n",
       " 'getlogin',\n",
       " 'getpgid',\n",
       " 'getpgrp',\n",
       " 'getpid',\n",
       " 'getppid',\n",
       " 'getpriority',\n",
       " 'getresgid',\n",
       " 'getresuid',\n",
       " 'getsid',\n",
       " 'getuid',\n",
       " 'getxattr',\n",
       " 'initgroups',\n",
       " 'isatty',\n",
       " 'kill',\n",
       " 'killpg',\n",
       " 'lchown',\n",
       " 'linesep',\n",
       " 'link',\n",
       " 'listdir',\n",
       " 'listxattr',\n",
       " 'lockf',\n",
       " 'lseek',\n",
       " 'lstat',\n",
       " 'major',\n",
       " 'makedev',\n",
       " 'makedirs',\n",
       " 'minor',\n",
       " 'mkdir',\n",
       " 'mkfifo',\n",
       " 'mknod',\n",
       " 'name',\n",
       " 'nice',\n",
       " 'open',\n",
       " 'openpty',\n",
       " 'pardir',\n",
       " 'path',\n",
       " 'pathconf',\n",
       " 'pathconf_names',\n",
       " 'pathsep',\n",
       " 'pipe',\n",
       " 'pipe2',\n",
       " 'popen',\n",
       " 'posix_fadvise',\n",
       " 'posix_fallocate',\n",
       " 'posix_spawn',\n",
       " 'posix_spawnp',\n",
       " 'pread',\n",
       " 'preadv',\n",
       " 'putenv',\n",
       " 'pwrite',\n",
       " 'pwritev',\n",
       " 'read',\n",
       " 'readlink',\n",
       " 'readv',\n",
       " 'register_at_fork',\n",
       " 'remove',\n",
       " 'removedirs',\n",
       " 'removexattr',\n",
       " 'rename',\n",
       " 'renames',\n",
       " 'replace',\n",
       " 'rmdir',\n",
       " 'scandir',\n",
       " 'sched_get_priority_max',\n",
       " 'sched_get_priority_min',\n",
       " 'sched_getaffinity',\n",
       " 'sched_getparam',\n",
       " 'sched_getscheduler',\n",
       " 'sched_param',\n",
       " 'sched_rr_get_interval',\n",
       " 'sched_setaffinity',\n",
       " 'sched_setparam',\n",
       " 'sched_setscheduler',\n",
       " 'sched_yield',\n",
       " 'sendfile',\n",
       " 'sep',\n",
       " 'set_blocking',\n",
       " 'set_inheritable',\n",
       " 'setegid',\n",
       " 'seteuid',\n",
       " 'setgid',\n",
       " 'setgroups',\n",
       " 'setpgid',\n",
       " 'setpgrp',\n",
       " 'setpriority',\n",
       " 'setregid',\n",
       " 'setresgid',\n",
       " 'setresuid',\n",
       " 'setreuid',\n",
       " 'setsid',\n",
       " 'setuid',\n",
       " 'setxattr',\n",
       " 'spawnl',\n",
       " 'spawnle',\n",
       " 'spawnlp',\n",
       " 'spawnlpe',\n",
       " 'spawnv',\n",
       " 'spawnve',\n",
       " 'spawnvp',\n",
       " 'spawnvpe',\n",
       " 'st',\n",
       " 'stat',\n",
       " 'stat_result',\n",
       " 'statvfs',\n",
       " 'statvfs_result',\n",
       " 'strerror',\n",
       " 'supports_bytes_environ',\n",
       " 'supports_dir_fd',\n",
       " 'supports_effective_ids',\n",
       " 'supports_fd',\n",
       " 'supports_follow_symlinks',\n",
       " 'symlink',\n",
       " 'sync',\n",
       " 'sys',\n",
       " 'sysconf',\n",
       " 'sysconf_names',\n",
       " 'system',\n",
       " 'tcgetpgrp',\n",
       " 'tcsetpgrp',\n",
       " 'terminal_size',\n",
       " 'times',\n",
       " 'times_result',\n",
       " 'truncate',\n",
       " 'ttyname',\n",
       " 'umask',\n",
       " 'uname',\n",
       " 'uname_result',\n",
       " 'unlink',\n",
       " 'unsetenv',\n",
       " 'urandom',\n",
       " 'utime',\n",
       " 'wait',\n",
       " 'wait3',\n",
       " 'wait4',\n",
       " 'waitid',\n",
       " 'waitid_result',\n",
       " 'waitpid',\n",
       " 'walk',\n",
       " 'write',\n",
       " 'writev']"
      ]
     },
     "execution_count": 9,
     "metadata": {},
     "output_type": "execute_result"
    }
   ],
   "source": [
    "dir(os)"
   ]
  },
  {
   "cell_type": "code",
   "execution_count": 10,
   "id": "5066117b",
   "metadata": {},
   "outputs": [
    {
     "data": {
      "text/plain": [
       "'/home/prasad/python_workspace/python_intermediate'"
      ]
     },
     "execution_count": 10,
     "metadata": {},
     "output_type": "execute_result"
    }
   ],
   "source": [
    "os.getcwd()"
   ]
  },
  {
   "cell_type": "code",
   "execution_count": null,
   "id": "af35194a",
   "metadata": {},
   "outputs": [],
   "source": []
  },
  {
   "cell_type": "code",
   "execution_count": null,
   "id": "b0a3db27",
   "metadata": {},
   "outputs": [],
   "source": []
  },
  {
   "cell_type": "code",
   "execution_count": null,
   "id": "a53640f2",
   "metadata": {},
   "outputs": [],
   "source": []
  },
  {
   "cell_type": "code",
   "execution_count": null,
   "id": "5a08f80a",
   "metadata": {},
   "outputs": [],
   "source": []
  },
  {
   "cell_type": "code",
   "execution_count": null,
   "id": "f2763a46",
   "metadata": {},
   "outputs": [],
   "source": []
  },
  {
   "cell_type": "code",
   "execution_count": null,
   "id": "1542cd76",
   "metadata": {},
   "outputs": [],
   "source": []
  },
  {
   "cell_type": "code",
   "execution_count": null,
   "id": "43ec7f58",
   "metadata": {},
   "outputs": [],
   "source": []
  },
  {
   "cell_type": "code",
   "execution_count": null,
   "id": "a6a0b5df",
   "metadata": {},
   "outputs": [],
   "source": []
  },
  {
   "cell_type": "code",
   "execution_count": null,
   "id": "d82ff31c",
   "metadata": {},
   "outputs": [],
   "source": []
  },
  {
   "cell_type": "code",
   "execution_count": null,
   "id": "8cc03380",
   "metadata": {},
   "outputs": [],
   "source": []
  },
  {
   "cell_type": "code",
   "execution_count": null,
   "id": "0c7f5f75",
   "metadata": {},
   "outputs": [],
   "source": []
  },
  {
   "cell_type": "code",
   "execution_count": null,
   "id": "071337f2",
   "metadata": {},
   "outputs": [],
   "source": []
  },
  {
   "cell_type": "code",
   "execution_count": null,
   "id": "3a61c74e",
   "metadata": {},
   "outputs": [],
   "source": []
  },
  {
   "cell_type": "code",
   "execution_count": null,
   "id": "e9ed6114",
   "metadata": {},
   "outputs": [],
   "source": []
  },
  {
   "cell_type": "code",
   "execution_count": null,
   "id": "d5dcc322",
   "metadata": {},
   "outputs": [],
   "source": []
  },
  {
   "cell_type": "code",
   "execution_count": null,
   "id": "cfe9665d",
   "metadata": {},
   "outputs": [],
   "source": []
  },
  {
   "cell_type": "code",
   "execution_count": null,
   "id": "847199a9",
   "metadata": {},
   "outputs": [],
   "source": []
  }
 ],
 "metadata": {
  "kernelspec": {
   "display_name": "Python 3 (ipykernel)",
   "language": "python",
   "name": "python3"
  },
  "language_info": {
   "codemirror_mode": {
    "name": "ipython",
    "version": 3
   },
   "file_extension": ".py",
   "mimetype": "text/x-python",
   "name": "python",
   "nbconvert_exporter": "python",
   "pygments_lexer": "ipython3",
   "version": "3.8.8"
  }
 },
 "nbformat": 4,
 "nbformat_minor": 5
}
