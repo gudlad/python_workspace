{
 "cells": [
  {
   "cell_type": "code",
   "execution_count": 5,
   "id": "dd3457a4",
   "metadata": {},
   "outputs": [
    {
     "name": "stdout",
     "output_type": "stream",
     "text": [
      "Enter a :1\n",
      "Ente b :2\n",
      "1 + 2 = 3\n"
     ]
    }
   ],
   "source": [
    "a=int(input(\"Enter a :\"))\n",
    "b=int(input(\"Ente b :\"))\n",
    "c=a+b\n",
    "print(a,'+',b,'=',c)"
   ]
  },
  {
   "cell_type": "code",
   "execution_count": null,
   "id": "6677139b",
   "metadata": {},
   "outputs": [],
   "source": []
  }
 ],
 "metadata": {
  "kernelspec": {
   "display_name": "Python 3 (ipykernel)",
   "language": "python",
   "name": "python3"
  },
  "language_info": {
   "codemirror_mode": {
    "name": "ipython",
    "version": 3
   },
   "file_extension": ".py",
   "mimetype": "text/x-python",
   "name": "python",
   "nbconvert_exporter": "python",
   "pygments_lexer": "ipython3",
   "version": "3.8.8"
  }
 },
 "nbformat": 4,
 "nbformat_minor": 5
}
