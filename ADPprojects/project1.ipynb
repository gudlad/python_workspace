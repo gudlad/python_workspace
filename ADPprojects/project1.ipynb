{
 "cells": [
  {
   "cell_type": "markdown",
   "id": "b864f789",
   "metadata": {},
   "source": [
    "# PYTHON PROJECT "
   ]
  },
  {
   "cell_type": "markdown",
   "id": "6a043110",
   "metadata": {},
   "source": [
    "### name : GURUPRASAD\n",
    "### usn: 4SU19CS031\n",
    "### section: A\n",
    "### sem: 5\n"
   ]
  },
  {
   "cell_type": "markdown",
   "id": "f85c269a",
   "metadata": {},
   "source": [
    "### Project name :  Password Locker\n",
    "### Description  :  \n",
    "* Run this program with a command line argument\n",
    "that is the account’s name—for instance, email or blog. That account’s\n",
    "password will be copied to the clipboard so that the user can paste it into\n",
    "a Password field.\n",
    "* This code looks in the PASSWORDS dictionary for the account name.\n",
    "If the account name is a key in the dictionary, we get the value correspond-\n",
    "ing to that key, copy it to the clipboard, and print a message saying that we\n",
    "copied the value. Otherwise, we print a message saying there’s no account\n",
    "with that name."
   ]
  },
  {
   "cell_type": "markdown",
   "id": "e8850ba4",
   "metadata": {},
   "source": [
    "## source code ::"
   ]
  },
  {
   "cell_type": "code",
   "execution_count": 5,
   "id": "d40cc9a6",
   "metadata": {},
   "outputs": [
    {
     "name": "stdout",
     "output_type": "stream",
     "text": [
      "There is no account named -f\n"
     ]
    }
   ],
   "source": [
    "# project 1\n",
    "#! python3\n",
    "# pw.py - An insecure password locker program.\n",
    "PASSWORDS={'email': 'F7minlBDDuvMJuxESSKHFhTxFtjVB6','blog': 'VmALvQyKAxiVH5G8v01if1MLZF3sdt','luggage': '12345'}\n",
    "\n",
    "import sys\n",
    "import pyperclip\n",
    "if len(sys.argv) < 2:\n",
    "    print('Usage: py pw.py [account] - copy account password')\n",
    "    sys.exit()\n",
    "account = sys.argv[1]   # first command line arg is the account name\n",
    "\n",
    "if account in PASSWORDS:\n",
    "    pyperclip.copy(PASSWORDS[account])\n",
    "    print('Password for ' + account + ' copied to clipboard.')\n",
    "else:\n",
    "    print('There is no account named ' + account)"
   ]
  }
 ],
 "metadata": {
  "kernelspec": {
   "display_name": "Python 3 (ipykernel)",
   "language": "python",
   "name": "python3"
  },
  "language_info": {
   "codemirror_mode": {
    "name": "ipython",
    "version": 3
   },
   "file_extension": ".py",
   "mimetype": "text/x-python",
   "name": "python",
   "nbconvert_exporter": "python",
   "pygments_lexer": "ipython3",
   "version": "3.8.8"
  }
 },
 "nbformat": 4,
 "nbformat_minor": 5
}
