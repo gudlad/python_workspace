{
 "cells": [
  {
   "cell_type": "markdown",
   "id": "254d6f51",
   "metadata": {},
   "source": [
    "# PYTHON PROJECT "
   ]
  },
  {
   "cell_type": "markdown",
   "id": "47abf443",
   "metadata": {},
   "source": [
    "### name : GURUPRASAD\n",
    "### usn: 4SU19CS031\n",
    "### section: A\n",
    "### sem: 5"
   ]
  },
  {
   "cell_type": "markdown",
   "id": "7b1931ca",
   "metadata": {},
   "source": [
    "### Project name :  Phone number Email Address Extractor\n",
    "### Description  :  \n",
    "how the code works:\n",
    "\n",
    "*Use the pyperclip module to copy and paste strings.\n",
    "\n",
    "*Create two regexes, one for matching phone numbers and the other for\n",
    "matching email addresses.\n",
    "\n",
    "*Find all matches, not just the first match, of both regexes.\n",
    "\n",
    "*Neatly format the matched strings into a single string to paste.\n",
    "\n",
    "*Display some kind of message if no matches were found in the text."
   ]
  },
  {
   "cell_type": "code",
   "execution_count": null,
   "id": "1801c5fa",
   "metadata": {},
   "outputs": [],
   "source": [
    "# project 3\n",
    "#! python3\n",
    "# phoneAndEmail.py - Finds phone numbers and email addresses on the clipboard.\n",
    "import pyperclip,re\n",
    "\n",
    "phoneRegex = re.compile(r'''(\n",
    " (\\d{3}|\\(\\d{3}\\))?                      # area code\n",
    " (\\s|-|\\.)?                              # separator\n",
    " (\\d{3})                                 # first 3 digits\n",
    " (\\s|-|\\.)                               # separator\n",
    " (\\d{4})                                 # last 4 digits\n",
    " (\\s*(ext|x|ext.)\\s*(\\d{2,5}))?          # extension\n",
    " )''', re.VERBOSE)\n",
    "\n",
    "# Create email regex.\n",
    "emailRegex = re.compile(r'''(\n",
    " [a-zA-Z0-9._%+-]+                      # username\n",
    " @                                      # @ symbol\n",
    " [a-zA-Z0-9.-]+                         # domain name\n",
    " (\\.[a-zA-Z]{2,4})                       # dot-something\n",
    " )''', re.VERBOSE)\n",
    "\n",
    "# Find matches in clipboard text.\n",
    "text = str(pyperclip.paste())\n",
    "\n",
    "matches = []\n",
    "for groups in phoneRegex.findall(text):\n",
    "    phoneNum = '-'.join([groups[1], groups[3], groups[5]])\n",
    "    if groups[8] != '':\n",
    "     phoneNum += ' x' + groups[8]\n",
    "    matches.append(phoneNum)\n",
    "for groups in emailRegex.findall(text):\n",
    "    matches.append(groups[0])\n",
    "    \n",
    "    \n",
    "# Copy results to the clipboard.\n",
    "if len(matches) > 0:\n",
    "    pyperclip.copy('\\n'.join(matches))\n",
    "    print('Copied to clipboard:')\n",
    "    print('\\n'.join(matches))\n",
    "else:\n",
    "    print('No phone numbers or email addresses found.')"
   ]
  }
 ],
 "metadata": {
  "kernelspec": {
   "display_name": "Python 3 (ipykernel)",
   "language": "python",
   "name": "python3"
  },
  "language_info": {
   "codemirror_mode": {
    "name": "ipython",
    "version": 3
   },
   "file_extension": ".py",
   "mimetype": "text/x-python",
   "name": "python",
   "nbconvert_exporter": "python",
   "pygments_lexer": "ipython3",
   "version": "3.8.8"
  }
 },
 "nbformat": 4,
 "nbformat_minor": 5
}
