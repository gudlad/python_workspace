{
 "cells": [
  {
   "cell_type": "markdown",
   "id": "515b150b",
   "metadata": {},
   "source": [
    "# PYTHON PROJECT"
   ]
  },
  {
   "cell_type": "markdown",
   "id": "9118faa6",
   "metadata": {},
   "source": [
    "### name : GURUPRASAD\n",
    "### usn: 4SU19CS031\n",
    "### section: A\n",
    "### sem: 5"
   ]
  },
  {
   "cell_type": "markdown",
   "id": "0b75009b",
   "metadata": {},
   "source": [
    "### Project name :  Generating random quiz files\n",
    "### Description  :  \n",
    "how the code works:\n",
    "\n",
    "*Creates 35 different quizzes.\n",
    "\n",
    "*Creates 50 multiple-choice questions for each quiz, in random order\n",
    "\n",
    "*Provides the correct answer and three random wrong answers for each\n",
    "question, in random order.\n",
    "\n",
    "*Writes the quizzes to 35 text files.\n",
    "\n",
    "*Writes the answer keys to 35 text files.\n",
    "\n",
    "*This means the code will need to do the following:\n",
    "\n",
    "*Store the states and their capitals in a dictionary.\n",
    "\n",
    "*Call open() , write() , and close() for the quiz and answer key text files.\n",
    "\n",
    "*Use random.shuffle() to randomize the order of the questions and\n",
    "multiple-choice options.\n",
    "\n",
    "This program will be randomly order the questions and answers,so we need to import the random module"
   ]
  },
  {
   "cell_type": "code",
   "execution_count": null,
   "id": "22a84657",
   "metadata": {},
   "outputs": [],
   "source": [
    "# project 4\n",
    "#! python3\n",
    "# randomQuizGenerator.py - Creates quizzes with questions and answers in\n",
    "# random order, along with the answer key.\n",
    "import random\n",
    "# The quiz data. Keys are states and values are their capitals.\n",
    "capitals = {'Alabama': 'Montgomery', 'Alaska': 'Juneau', 'Arizona': 'Phoenix',\n",
    "'Arkansas': 'Little Rock', 'California': 'Sacramento', 'Colorado': 'Denver',\n",
    "'Connecticut': 'Hartford', 'Delaware': 'Dover', 'Florida': 'Tallahassee',\n",
    "'Georgia': 'Atlanta', 'Hawaii': 'Honolulu', 'Idaho': 'Boise', 'Illinois':\n",
    "'Springfield', 'Indiana': 'Indianapolis', 'Iowa': 'Des Moines', 'Kansas':\n",
    "'Topeka', 'Kentucky': 'Frankfort', 'Louisiana': 'Baton Rouge', 'Maine':\n",
    "'Augusta', 'Maryland': 'Annapolis', 'Massachusetts': 'Boston', 'Michigan':\n",
    "'Lansing', 'Minnesota': 'Saint Paul', 'Mississippi': 'Jackson', 'Missouri':\n",
    "'Jefferson City', 'Montana': 'Helena', 'Nebraska': 'Lincoln', 'Nevada':\n",
    "'Carson City', 'New Hampshire': 'Concord', 'New Jersey': 'Trenton', 'NewMexico': 'Santa Fe', 'New York': 'Albany', 'North Carolina': 'Raleigh',\n",
    "'North Dakota': 'Bismarck', 'Ohio': 'Columbus', 'Oklahoma': 'Oklahoma City',\n",
    "'Oregon': 'Salem', 'Pennsylvania': 'Harrisburg', 'Rhode Island': 'Providence',\n",
    "'South Carolina': 'Columbia', 'South Dakota': 'Pierre', 'Tennessee':\n",
    "'Nashville', 'Texas': 'Austin', 'Utah': 'Salt Lake City', 'Vermont':\n",
    "'Montpelier', 'Virginia': 'Richmond', 'Washington': 'Olympia', 'WestVirginia': 'Charleston', 'Wisconsin': 'Madison', 'Wyoming': 'Cheyenne'}\n",
    "for quizNum in range(35):\n",
    " # Create the quiz and answer key files.\n",
    " quizFile = open('capitalsquiz%s.txt' % (quizNum + 1), 'w')\n",
    "answerKeyFile = open('capitalsquiz_answers%s.txt' % (quizNum + 1), 'w')\n",
    " # Write out the header for the quiz.\n",
    "quizFile.write('Name:\\n\\nDate:\\n\\nPeriod:\\n\\n')\n",
    "quizFile.write((' ' * 20) + 'State Capitals Quiz (Form %s)' % (quizNum + 1))\n",
    "quizFile.write('\\n\\n')\n",
    " # Shuffle the order of the states.\n",
    "states = list(capitals.keys())\n",
    "random.shuffle(states)\n",
    "            # Loop through all 50 states, making a question for each.\n",
    "for questionNum in range(50):\n",
    " # Get right and wrong answers.\n",
    " correctAnswer = capitals[states[questionNum]]\n",
    "wrongAnswers = list(capitals.values())\n",
    "del wrongAnswers[wrongAnswers.index(correctAnswer)]\n",
    "wrongAnswers = random.sample(wrongAnswers, 3)\n",
    "answerOptions = wrongAnswers + [correctAnswer]\n",
    "random.shuffle(answerOptions)\n",
    "            # Write the question and the answer options to the quiz file.\n",
    "quizFile.write('%s. What is the capital of %s?\\n' % (questionNum + 1,\n",
    " states[questionNum]))\n",
    "for i in range(4):\n",
    "     quizFile.write(' %s. %s\\n' % ('ABCD'[i], answerOptions[i]))\n",
    "quizFile.write('\\n')\n",
    " # Write the answer key to a file.\n",
    "answerKeyFile.write('%s. %s\\n' % (questionNum + 1, 'ABCD'[\n",
    " answerOptions.index(correctAnswer)]))\n",
    "quizFile.close()\n",
    "answerKeyFile.close()"
   ]
  }
 ],
 "metadata": {
  "kernelspec": {
   "display_name": "Python 3 (ipykernel)",
   "language": "python",
   "name": "python3"
  },
  "language_info": {
   "codemirror_mode": {
    "name": "ipython",
    "version": 3
   },
   "file_extension": ".py",
   "mimetype": "text/x-python",
   "name": "python",
   "nbconvert_exporter": "python",
   "pygments_lexer": "ipython3",
   "version": "3.8.8"
  }
 },
 "nbformat": 4,
 "nbformat_minor": 5
}
