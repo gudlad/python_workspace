{
 "cells": [
  {
   "cell_type": "code",
   "execution_count": 17,
   "id": "3580aaa8",
   "metadata": {},
   "outputs": [
    {
     "ename": "NameError",
     "evalue": "name 'Circle' is not defined",
     "output_type": "error",
     "traceback": [
      "\u001b[0;31m---------------------------------------------------------------------------\u001b[0m",
      "\u001b[0;31mNameError\u001b[0m                                 Traceback (most recent call last)",
      "\u001b[0;32m<ipython-input-17-e3b1c7a14263>\u001b[0m in \u001b[0;36m<module>\u001b[0;34m\u001b[0m\n\u001b[1;32m     19\u001b[0m \u001b[0;32mif\u001b[0m \u001b[0m__name__\u001b[0m \u001b[0;34m==\u001b[0m \u001b[0;34m'__main__'\u001b[0m\u001b[0;34m:\u001b[0m\u001b[0;34m\u001b[0m\u001b[0;34m\u001b[0m\u001b[0m\n\u001b[1;32m     20\u001b[0m     \u001b[0;31m# draw a circle\u001b[0m\u001b[0;34m\u001b[0m\u001b[0;34m\u001b[0m\u001b[0;34m\u001b[0m\u001b[0m\n\u001b[0;32m---> 21\u001b[0;31m     \u001b[0mcircle\u001b[0m \u001b[0;34m=\u001b[0m \u001b[0mCircle\u001b[0m\u001b[0;34m\u001b[0m\u001b[0;34m\u001b[0m\u001b[0m\n\u001b[0m\u001b[1;32m     22\u001b[0m     \u001b[0mcircle\u001b[0m\u001b[0;34m.\u001b[0m\u001b[0mcenter\u001b[0m \u001b[0;34m=\u001b[0m \u001b[0mPoint\u001b[0m\u001b[0;34m(\u001b[0m\u001b[0;34m)\u001b[0m\u001b[0;34m\u001b[0m\u001b[0;34m\u001b[0m\u001b[0m\n\u001b[1;32m     23\u001b[0m     \u001b[0mcircle\u001b[0m\u001b[0;34m.\u001b[0m\u001b[0mcenter\u001b[0m\u001b[0;34m.\u001b[0m\u001b[0mx\u001b[0m \u001b[0;34m=\u001b[0m \u001b[0;36m150.0\u001b[0m\u001b[0;34m\u001b[0m\u001b[0;34m\u001b[0m\u001b[0m\n",
      "\u001b[0;31mNameError\u001b[0m: name 'Circle' is not defined"
     ]
    }
   ],
   "source": [
    "from __future__ import print_function, division\n",
    "import turtle\n",
    "import polygon\n",
    "from Circle import Circle\n",
    "\n",
    "def draw_circle(t, circle):\n",
    "    \"\"\"Draws a circle.\n",
    "    t: Turtle\n",
    "    circle: Circle\n",
    "    \"\"\"\n",
    "    t.pu()\n",
    "    t.goto(circle.center.x, circle.center.y)\n",
    "    t.fd(circle.radius)\n",
    "    t.lt(90)\n",
    "    t.pd()\n",
    "    polygon.circle(t, circle.radius)\n",
    "\n",
    "\n",
    "if __name__ == '__main__':\n",
    "    # draw a circle\n",
    "    circle = Circle\n",
    "    circle.center = Point()\n",
    "    circle.center.x = 150.0\n",
    "    circle.center.y = 100.0\n",
    "    circle.radius = 75.0\n",
    "\n",
    "    draw_circle(bob, circle)\n",
    "\n",
    "    # wait for the user to close the window\n",
    "    turtle.mainloop()"
   ]
  },
  {
   "cell_type": "code",
   "execution_count": 19,
   "id": "e219d951",
   "metadata": {},
   "outputs": [
    {
     "name": "stdout",
     "output_type": "stream",
     "text": [
      "Collecting Circle\n",
      "  Using cached circle-1.1.zip (1.8 kB)\n",
      "Building wheels for collected packages: Circle\n",
      "  Building wheel for Circle (setup.py) ... \u001b[?25lerror\n",
      "\u001b[31m  ERROR: Command errored out with exit status 1:\n",
      "   command: /home/prasad/anaconda3/bin/python -u -c 'import sys, setuptools, tokenize; sys.argv[0] = '\"'\"'/tmp/pip-install-vueyty8s/circle_875b463fbac54f629c5aaea161cc84f6/setup.py'\"'\"'; __file__='\"'\"'/tmp/pip-install-vueyty8s/circle_875b463fbac54f629c5aaea161cc84f6/setup.py'\"'\"';f=getattr(tokenize, '\"'\"'open'\"'\"', open)(__file__);code=f.read().replace('\"'\"'\\r\\n'\"'\"', '\"'\"'\\n'\"'\"');f.close();exec(compile(code, __file__, '\"'\"'exec'\"'\"'))' bdist_wheel -d /tmp/pip-wheel-nzzjyyom\n",
      "       cwd: /tmp/pip-install-vueyty8s/circle_875b463fbac54f629c5aaea161cc84f6/\n",
      "  Complete output (12 lines):\n",
      "  running bdist_wheel\n",
      "  running build\n",
      "  running build_ext\n",
      "  building 'circle' extension\n",
      "  creating build\n",
      "  creating build/temp.linux-x86_64-3.8\n",
      "  gcc -pthread -B /home/prasad/anaconda3/compiler_compat -Wl,--sysroot=/ -Wsign-compare -DNDEBUG -g -fwrapv -O3 -Wall -Wstrict-prototypes -fPIC -I/home/prasad/anaconda3/include/python3.8 -c circle.c -o build/temp.linux-x86_64-3.8/circle.o\n",
      "  circle.c:1:10: fatal error: python.h: No such file or directory\n",
      "      1 | #include <python.h>\n",
      "        |          ^~~~~~~~~~\n",
      "  compilation terminated.\n",
      "  error: command 'gcc' failed with exit status 1\n",
      "  ----------------------------------------\u001b[0m\n",
      "\u001b[31m  ERROR: Failed building wheel for Circle\u001b[0m\n",
      "\u001b[?25h  Running setup.py clean for Circle\n",
      "Failed to build Circle\n",
      "Installing collected packages: Circle\n",
      "    Running setup.py install for Circle ... \u001b[?25lerror\n",
      "\u001b[31m    ERROR: Command errored out with exit status 1:\n",
      "     command: /home/prasad/anaconda3/bin/python -u -c 'import sys, setuptools, tokenize; sys.argv[0] = '\"'\"'/tmp/pip-install-vueyty8s/circle_875b463fbac54f629c5aaea161cc84f6/setup.py'\"'\"'; __file__='\"'\"'/tmp/pip-install-vueyty8s/circle_875b463fbac54f629c5aaea161cc84f6/setup.py'\"'\"';f=getattr(tokenize, '\"'\"'open'\"'\"', open)(__file__);code=f.read().replace('\"'\"'\\r\\n'\"'\"', '\"'\"'\\n'\"'\"');f.close();exec(compile(code, __file__, '\"'\"'exec'\"'\"'))' install --record /tmp/pip-record-mjr_vtwv/install-record.txt --single-version-externally-managed --compile --install-headers /home/prasad/anaconda3/include/python3.8/Circle\n",
      "         cwd: /tmp/pip-install-vueyty8s/circle_875b463fbac54f629c5aaea161cc84f6/\n",
      "    Complete output (12 lines):\n",
      "    running install\n",
      "    running build\n",
      "    running build_ext\n",
      "    building 'circle' extension\n",
      "    creating build\n",
      "    creating build/temp.linux-x86_64-3.8\n",
      "    gcc -pthread -B /home/prasad/anaconda3/compiler_compat -Wl,--sysroot=/ -Wsign-compare -DNDEBUG -g -fwrapv -O3 -Wall -Wstrict-prototypes -fPIC -I/home/prasad/anaconda3/include/python3.8 -c circle.c -o build/temp.linux-x86_64-3.8/circle.o\n",
      "    circle.c:1:10: fatal error: python.h: No such file or directory\n",
      "        1 | #include <python.h>\n",
      "          |          ^~~~~~~~~~\n",
      "    compilation terminated.\n",
      "    error: command 'gcc' failed with exit status 1\n",
      "    ----------------------------------------\u001b[0m\n",
      "\u001b[31mERROR: Command errored out with exit status 1: /home/prasad/anaconda3/bin/python -u -c 'import sys, setuptools, tokenize; sys.argv[0] = '\"'\"'/tmp/pip-install-vueyty8s/circle_875b463fbac54f629c5aaea161cc84f6/setup.py'\"'\"'; __file__='\"'\"'/tmp/pip-install-vueyty8s/circle_875b463fbac54f629c5aaea161cc84f6/setup.py'\"'\"';f=getattr(tokenize, '\"'\"'open'\"'\"', open)(__file__);code=f.read().replace('\"'\"'\\r\\n'\"'\"', '\"'\"'\\n'\"'\"');f.close();exec(compile(code, __file__, '\"'\"'exec'\"'\"'))' install --record /tmp/pip-record-mjr_vtwv/install-record.txt --single-version-externally-managed --compile --install-headers /home/prasad/anaconda3/include/python3.8/Circle Check the logs for full command output.\u001b[0m\n",
      "\u001b[?25hNote: you may need to restart the kernel to use updated packages.\n"
     ]
    }
   ],
   "source": [
    "pip install Circle"
   ]
  },
  {
   "cell_type": "code",
   "execution_count": null,
   "id": "897d48a5",
   "metadata": {},
   "outputs": [],
   "source": []
  }
 ],
 "metadata": {
  "kernelspec": {
   "display_name": "Python 3 (ipykernel)",
   "language": "python",
   "name": "python3"
  },
  "language_info": {
   "codemirror_mode": {
    "name": "ipython",
    "version": 3
   },
   "file_extension": ".py",
   "mimetype": "text/x-python",
   "name": "python",
   "nbconvert_exporter": "python",
   "pygments_lexer": "ipython3",
   "version": "3.8.8"
  }
 },
 "nbformat": 4,
 "nbformat_minor": 5
}
