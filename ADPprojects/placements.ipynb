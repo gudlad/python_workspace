{
 "cells": [
  {
   "cell_type": "markdown",
   "id": "54461906",
   "metadata": {},
   "source": [
    "#### program to find largest odd and largest even no in the list"
   ]
  },
  {
   "cell_type": "code",
   "execution_count": 15,
   "id": "946a0d26",
   "metadata": {},
   "outputs": [
    {
     "name": "stdout",
     "output_type": "stream",
     "text": [
      "Enter the range:100\n",
      "largest odd is 99 and largest even is 100 in the ranges 0-100\n"
     ]
    }
   ],
   "source": [
    "def iseven(n):\n",
    "    return n%2==0\n",
    "\n",
    "def not_even(n):\n",
    "    return n%2!=0\n",
    "\n",
    "def find_largest_odd_even(i,largest_odd,largest_even):\n",
    "    for i in range(i+1):\n",
    "        if not_even(i):\n",
    "            if i>largest_odd:\n",
    "                largest_odd=i\n",
    "        elif iseven(i):\n",
    "            if i>largest_even:\n",
    "                largest_even=i\n",
    "    print(f'largest odd is {largest_odd} and largest even is {largest_even} in the ranges 0-{i}')\n",
    "\n",
    "\n",
    "i=int(input(\"Enter the range:\"))\n",
    "largest_odd=1\n",
    "largest_even=0\n",
    "find_largest_odd_even(i,largest_odd,largest_even)\n",
    "\n",
    "\n"
   ]
  },
  {
   "cell_type": "markdown",
   "id": "10bab19e",
   "metadata": {},
   "source": [
    "### porgramme to search the number of times the particular element in the list"
   ]
  },
  {
   "cell_type": "code",
   "execution_count": 25,
   "id": "bb52fb56",
   "metadata": {},
   "outputs": [
    {
     "name": "stdout",
     "output_type": "stream",
     "text": [
      "Enter the element to search:5\n",
      "the element 5 is reapeated 1 time\n"
     ]
    }
   ],
   "source": [
    "target=int(input(\"Enter the element to search:\"))\n",
    "list=[5,6,7,8,9,34]\n",
    "temp=0\n",
    "for i in list:\n",
    "    if target==i:\n",
    "        temp=temp+1\n",
    "#         print(f'the element {target} found in index {count}')    \n",
    "print(f'the element {target} is reapeated {temp} time')"
   ]
  },
  {
   "cell_type": "markdown",
   "id": "60f11b9a",
   "metadata": {},
   "source": [
    "### finding the largest element in the list of strings"
   ]
  },
  {
   "cell_type": "code",
   "execution_count": 32,
   "id": "871c6952",
   "metadata": {},
   "outputs": [
    {
     "name": "stdout",
     "output_type": "stream",
     "text": [
      "the largest string is welcome\n"
     ]
    }
   ],
   "source": [
    "fruits=['Apple','Orange','bananna','welcome']\n",
    "largest=\"\"\n",
    "for i in fruits:\n",
    "    if len(i)>=len(largest):\n",
    "        largest=i\n",
    "print(f'the largest string is {largest}')\n",
    "    "
   ]
  },
  {
   "cell_type": "markdown",
   "id": "68d232fa",
   "metadata": {},
   "source": [
    "# finding whether number is great number or not"
   ]
  },
  {
   "cell_type": "code",
   "execution_count": 39,
   "id": "9b29fd04",
   "metadata": {},
   "outputs": [
    {
     "name": "stdout",
     "output_type": "stream",
     "text": [
      "Enter the number to test:67\n",
      "sum 13\n",
      "product 42\n",
      "the no is not great number\n"
     ]
    }
   ],
   "source": [
    "num=input(\"Enter the number to test:\") #59\n",
    "sum=0\n",
    "product=1\n",
    "for i in num:\n",
    "    sum=sum+int(i)\n",
    "    product=product*int(i)\n",
    "    \n",
    "print(\"sum\",sum)\n",
    "print(\"product\",product)\n",
    "if(sum+product==int(num)):\n",
    "    print(\"the no is great number\")\n",
    "else:\n",
    "    print(\"the no is not great number\")"
   ]
  },
  {
   "cell_type": "markdown",
   "id": "b9173c1b",
   "metadata": {},
   "source": [
    "# finding the no with heighest frequency"
   ]
  },
  {
   "cell_type": "code",
   "execution_count": 43,
   "id": "3011c75e",
   "metadata": {},
   "outputs": [
    {
     "name": "stdout",
     "output_type": "stream",
     "text": [
      "4\n"
     ]
    }
   ],
   "source": [
    "## use builtin function count\n",
    "list2=[1,2,3,4,4,4,5]\n",
    "# list2=[1,2,2,4,4,5,5]\n",
    "\n",
    "count=0\n",
    "for i in list2:\n",
    "    if list2.count(i)>=count:\n",
    "        count=list2.count(i)\n",
    "        result=i\n",
    "print(result)\n",
    "    "
   ]
  },
  {
   "cell_type": "markdown",
   "id": "4e9bea0c",
   "metadata": {},
   "source": [
    "# finding the waiting time for the cars"
   ]
  },
  {
   "cell_type": "code",
   "execution_count": 52,
   "id": "971e4a24",
   "metadata": {},
   "outputs": [
    {
     "name": "stdout",
     "output_type": "stream",
     "text": [
      "4 5\n",
      "15\n"
     ]
    }
   ],
   "source": [
    "a, b = map(int, input().split())\n",
    "print((a-1)*b)"
   ]
  },
  {
   "cell_type": "code",
   "execution_count": 55,
   "id": "7331b35e",
   "metadata": {},
   "outputs": [
    {
     "name": "stdout",
     "output_type": "stream",
     "text": [
      "Enter the number:4\n",
      "2\n",
      "5\n",
      "10\n",
      "17\n"
     ]
    }
   ],
   "source": [
    "n=int(input(\"Enter the number:\"))\n",
    "for i in range(1,n+1):\n",
    "    print(i**2+1)"
   ]
  },
  {
   "cell_type": "code",
   "execution_count": 61,
   "id": "eef0d81c",
   "metadata": {},
   "outputs": [
    {
     "name": "stdout",
     "output_type": "stream",
     "text": [
      "enter the no items:5\n",
      "5 25 35 -5 30\n"
     ]
    },
    {
     "ename": "TypeError",
     "evalue": "'list' object is not callable",
     "output_type": "error",
     "traceback": [
      "\u001b[0;31m---------------------------------------------------------------------------\u001b[0m",
      "\u001b[0;31mTypeError\u001b[0m                                 Traceback (most recent call last)",
      "\u001b[0;32m<ipython-input-61-bc68b8c97191>\u001b[0m in \u001b[0;36m<module>\u001b[0;34m\u001b[0m\n\u001b[1;32m      1\u001b[0m \u001b[0mno\u001b[0m \u001b[0;34m=\u001b[0m \u001b[0mint\u001b[0m\u001b[0;34m(\u001b[0m\u001b[0minput\u001b[0m\u001b[0;34m(\u001b[0m\u001b[0;34m\"enter the no items:\"\u001b[0m\u001b[0;34m)\u001b[0m\u001b[0;34m)\u001b[0m\u001b[0;34m\u001b[0m\u001b[0;34m\u001b[0m\u001b[0m\n\u001b[0;32m----> 2\u001b[0;31m \u001b[0ma\u001b[0m\u001b[0;34m=\u001b[0m \u001b[0mlist\u001b[0m\u001b[0;34m(\u001b[0m\u001b[0mmap\u001b[0m\u001b[0;34m(\u001b[0m\u001b[0mint\u001b[0m\u001b[0;34m,\u001b[0m \u001b[0minput\u001b[0m\u001b[0;34m(\u001b[0m\u001b[0;34m)\u001b[0m\u001b[0;34m.\u001b[0m\u001b[0msplit\u001b[0m\u001b[0;34m(\u001b[0m\u001b[0;34m)\u001b[0m\u001b[0;34m)\u001b[0m\u001b[0;34m)\u001b[0m\u001b[0;34m[\u001b[0m\u001b[0;34m:\u001b[0m\u001b[0mno\u001b[0m\u001b[0;34m]\u001b[0m\u001b[0;34m\u001b[0m\u001b[0;34m\u001b[0m\u001b[0m\n\u001b[0m\u001b[1;32m      3\u001b[0m \u001b[0;32mif\u001b[0m \u001b[0msum\u001b[0m\u001b[0;34m(\u001b[0m\u001b[0ma\u001b[0m\u001b[0;34m)\u001b[0m\u001b[0;34m%\u001b[0m\u001b[0;36m2\u001b[0m\u001b[0;34m==\u001b[0m\u001b[0;36m0\u001b[0m \u001b[0;32mand\u001b[0m \u001b[0msum\u001b[0m\u001b[0;34m(\u001b[0m\u001b[0ma\u001b[0m\u001b[0;34m)\u001b[0m\u001b[0;34m%\u001b[0m\u001b[0;36m3\u001b[0m\u001b[0;34m==\u001b[0m\u001b[0;36m0\u001b[0m \u001b[0;32mand\u001b[0m \u001b[0msum\u001b[0m\u001b[0;34m(\u001b[0m\u001b[0ma\u001b[0m\u001b[0;34m)\u001b[0m\u001b[0;34m%\u001b[0m\u001b[0;36m5\u001b[0m\u001b[0;34m==\u001b[0m\u001b[0;36m0\u001b[0m\u001b[0;34m:\u001b[0m\u001b[0;34m\u001b[0m\u001b[0;34m\u001b[0m\u001b[0m\n\u001b[1;32m      4\u001b[0m     \u001b[0mprint\u001b[0m\u001b[0;34m(\u001b[0m\u001b[0;36m1\u001b[0m\u001b[0;34m)\u001b[0m\u001b[0;34m\u001b[0m\u001b[0;34m\u001b[0m\u001b[0m\n\u001b[1;32m      5\u001b[0m \u001b[0;32melse\u001b[0m\u001b[0;34m:\u001b[0m\u001b[0;34m\u001b[0m\u001b[0;34m\u001b[0m\u001b[0m\n",
      "\u001b[0;31mTypeError\u001b[0m: 'list' object is not callable"
     ]
    }
   ],
   "source": [
    "no = int(input(\"enter the no items:\"))\n",
    "a= list(map(int, input().split()))[:no]\n",
    "if sum(a)%2==0 and sum(a)%3==0 and sum(a)%5==0:\n",
    "    print(1)\n",
    "else:\n",
    "    print(0)"
   ]
  },
  {
   "cell_type": "code",
   "execution_count": 62,
   "id": "556b2cb6",
   "metadata": {},
   "outputs": [
    {
     "name": "stdout",
     "output_type": "stream",
     "text": [
      "enter the no items:5\n",
      "1 6 4 0 3\n"
     ]
    },
    {
     "ename": "TypeError",
     "evalue": "'list' object is not callable",
     "output_type": "error",
     "traceback": [
      "\u001b[0;31m---------------------------------------------------------------------------\u001b[0m",
      "\u001b[0;31mTypeError\u001b[0m                                 Traceback (most recent call last)",
      "\u001b[0;32m<ipython-input-62-a7e43e94a144>\u001b[0m in \u001b[0;36m<module>\u001b[0;34m\u001b[0m\n\u001b[1;32m      1\u001b[0m \u001b[0mno\u001b[0m \u001b[0;34m=\u001b[0m \u001b[0mint\u001b[0m\u001b[0;34m(\u001b[0m\u001b[0minput\u001b[0m\u001b[0;34m(\u001b[0m\u001b[0;34m\"enter the no items:\"\u001b[0m\u001b[0;34m)\u001b[0m\u001b[0;34m)\u001b[0m\u001b[0;34m\u001b[0m\u001b[0;34m\u001b[0m\u001b[0m\n\u001b[0;32m----> 2\u001b[0;31m \u001b[0ma\u001b[0m \u001b[0;34m=\u001b[0m \u001b[0mlist\u001b[0m\u001b[0;34m(\u001b[0m\u001b[0mmap\u001b[0m\u001b[0;34m(\u001b[0m\u001b[0mint\u001b[0m\u001b[0;34m,\u001b[0m \u001b[0minput\u001b[0m\u001b[0;34m(\u001b[0m\u001b[0;34m)\u001b[0m\u001b[0;34m.\u001b[0m\u001b[0msplit\u001b[0m\u001b[0;34m(\u001b[0m\u001b[0;34m)\u001b[0m\u001b[0;34m)\u001b[0m\u001b[0;34m)\u001b[0m\u001b[0;34m[\u001b[0m\u001b[0;34m:\u001b[0m\u001b[0mno\u001b[0m\u001b[0;34m]\u001b[0m\u001b[0;34m\u001b[0m\u001b[0;34m\u001b[0m\u001b[0m\n\u001b[0m\u001b[1;32m      3\u001b[0m \u001b[0mlargeindex\u001b[0m\u001b[0;34m=\u001b[0m \u001b[0ma\u001b[0m\u001b[0;34m.\u001b[0m\u001b[0mindex\u001b[0m\u001b[0;34m(\u001b[0m\u001b[0mmax\u001b[0m\u001b[0;34m(\u001b[0m\u001b[0ma\u001b[0m\u001b[0;34m)\u001b[0m\u001b[0;34m)\u001b[0m\u001b[0;34m\u001b[0m\u001b[0;34m\u001b[0m\u001b[0m\n\u001b[1;32m      4\u001b[0m \u001b[0msmallindex\u001b[0m\u001b[0;34m=\u001b[0m \u001b[0ma\u001b[0m\u001b[0;34m.\u001b[0m\u001b[0mindex\u001b[0m\u001b[0;34m(\u001b[0m\u001b[0mmin\u001b[0m\u001b[0;34m(\u001b[0m\u001b[0ma\u001b[0m\u001b[0;34m)\u001b[0m\u001b[0;34m)\u001b[0m\u001b[0;34m\u001b[0m\u001b[0;34m\u001b[0m\u001b[0m\n\u001b[1;32m      5\u001b[0m \u001b[0mprint\u001b[0m\u001b[0;34m(\u001b[0m\u001b[0mlargeindex\u001b[0m \u001b[0;34m-\u001b[0m \u001b[0msmallindex\u001b[0m\u001b[0;34m)\u001b[0m\u001b[0;34m\u001b[0m\u001b[0;34m\u001b[0m\u001b[0m\n",
      "\u001b[0;31mTypeError\u001b[0m: 'list' object is not callable"
     ]
    }
   ],
   "source": [
    "no = int(input(\"enter the no items:\"))\n",
    "a = list(map(int, input().split()))[:no]\n",
    "largeindex= a.index(max(a))\n",
    "smallindex= a.index(min(a))\n",
    "print(largeindex - smallindex)"
   ]
  },
  {
   "cell_type": "code",
   "execution_count": null,
   "id": "ca4945f1",
   "metadata": {},
   "outputs": [],
   "source": []
  }
 ],
 "metadata": {
  "kernelspec": {
   "display_name": "Python 3 (ipykernel)",
   "language": "python",
   "name": "python3"
  },
  "language_info": {
   "codemirror_mode": {
    "name": "ipython",
    "version": 3
   },
   "file_extension": ".py",
   "mimetype": "text/x-python",
   "name": "python",
   "nbconvert_exporter": "python",
   "pygments_lexer": "ipython3",
   "version": "3.8.8"
  }
 },
 "nbformat": 4,
 "nbformat_minor": 5
}
