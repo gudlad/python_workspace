{
 "cells": [
  {
   "cell_type": "markdown",
   "id": "ef1d474b",
   "metadata": {},
   "source": [
    "# PYTHON PROJECT "
   ]
  },
  {
   "cell_type": "markdown",
   "id": "ca744b6d",
   "metadata": {},
   "source": [
    "### name : GURUPRASAD\n",
    "### usn: 4SU19CS031\n",
    "### section: A\n",
    "### sem: 5"
   ]
  },
  {
   "cell_type": "markdown",
   "id": "9467aaec",
   "metadata": {},
   "source": [
    "### Project name :  Bullet point adder\n",
    "### Description  :  \n",
    "\n",
    "*When this program is run, it replaces the text on the clipboard with\n",
    "text that has stars at the start of each line\n",
    "\n",
    "*Copy and Paste from the Clipboard \n",
    "\n",
    "*Separate the Lines of Text and Add the Star\n",
    "\n",
    "*Join the Modified Lines"
   ]
  },
  {
   "cell_type": "code",
   "execution_count": null,
   "id": "f755ffba",
   "metadata": {},
   "outputs": [],
   "source": [
    "# project 2\n",
    "import pyperclip\n",
    "text = pyperclip.paste()\n",
    "# TODO: Separate lines and add stars.\n",
    "pyperclip.copy(text)\n",
    "text = pyperclip.paste()\n",
    "# Separate lines and add stars.\n",
    "lines = text.split('\\n')\n",
    "for i in range(len(lines)): # loop through all indexes in the \"lines\" list\n",
    " lines[i] = '* ' + lines[i] # add star to each string in \"lines\" list\n",
    "text = '\\n'.join(lines)\n",
    "pyperclip.copy(text)"
   ]
  }
 ],
 "metadata": {
  "kernelspec": {
   "display_name": "Python 3 (ipykernel)",
   "language": "python",
   "name": "python3"
  },
  "language_info": {
   "codemirror_mode": {
    "name": "ipython",
    "version": 3
   },
   "file_extension": ".py",
   "mimetype": "text/x-python",
   "name": "python",
   "nbconvert_exporter": "python",
   "pygments_lexer": "ipython3",
   "version": "3.8.8"
  }
 },
 "nbformat": 4,
 "nbformat_minor": 5
}
