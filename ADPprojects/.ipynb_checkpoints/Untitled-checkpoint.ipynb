{
 "cells": [
  {
   "cell_type": "code",
   "execution_count": 9,
   "id": "228215ab",
   "metadata": {},
   "outputs": [
    {
     "ename": "ModuleNotFoundError",
     "evalue": "No module named 'Point1'",
     "output_type": "error",
     "traceback": [
      "\u001b[0;31m---------------------------------------------------------------------------\u001b[0m",
      "\u001b[0;31mModuleNotFoundError\u001b[0m                       Traceback (most recent call last)",
      "\u001b[0;32m<ipython-input-9-b5a1dc3745a5>\u001b[0m in \u001b[0;36m<module>\u001b[0;34m\u001b[0m\n\u001b[1;32m      3\u001b[0m \u001b[0;32mimport\u001b[0m \u001b[0mturtle\u001b[0m\u001b[0;34m\u001b[0m\u001b[0;34m\u001b[0m\u001b[0m\n\u001b[1;32m      4\u001b[0m \u001b[0;34m\u001b[0m\u001b[0m\n\u001b[0;32m----> 5\u001b[0;31m \u001b[0;32mfrom\u001b[0m \u001b[0mPoint1\u001b[0m \u001b[0;32mimport\u001b[0m \u001b[0mPoint\u001b[0m\u001b[0;34m,\u001b[0m \u001b[0mRectangle\u001b[0m\u001b[0;34m\u001b[0m\u001b[0;34m\u001b[0m\u001b[0m\n\u001b[0m\u001b[1;32m      6\u001b[0m \u001b[0;32mfrom\u001b[0m \u001b[0mCircle\u001b[0m \u001b[0;32mimport\u001b[0m \u001b[0mCircle\u001b[0m\u001b[0;34m\u001b[0m\u001b[0;34m\u001b[0m\u001b[0m\n\u001b[1;32m      7\u001b[0m \u001b[0;34m\u001b[0m\u001b[0m\n",
      "\u001b[0;31mModuleNotFoundError\u001b[0m: No module named 'Point1'"
     ]
    }
   ],
   "source": [
    "from __future__ import print_function, division\n",
    "import turtle\n",
    "from Circle import Circle\n",
    "\n",
    "import polygon\n",
    "\n",
    "def draw_circle(t, circle):\n",
    "    \"\"\"Draws a circle.\n",
    "    t: Turtle\n",
    "    circle: Circle\n",
    "    \"\"\"\n",
    "    t.pu()\n",
    "    t.goto(circle.center.x, circle.center.y)\n",
    "    t.fd(circle.radius)\n",
    "    t.lt(90)\n",
    "    t.pd()\n",
    "    polygon.circle(t, circle.radius)\n",
    "\n",
    "\n",
    "if __name__ == '__main__':\n",
    "    # draw a circle\n",
    "    circle = Circle\n",
    "    circle.center = Point()\n",
    "    circle.center.x = 150.0\n",
    "    circle.center.y = 100.0\n",
    "    circle.radius = 75.0\n",
    "\n",
    "    draw_circle(bob, circle)\n",
    "\n",
    "    # wait for the user to close the window\n",
    "    turtle.mainloop()"
   ]
  },
  {
   "cell_type": "code",
   "execution_count": null,
   "id": "424e851a",
   "metadata": {},
   "outputs": [],
   "source": []
  }
 ],
 "metadata": {
  "kernelspec": {
   "display_name": "Python 3 (ipykernel)",
   "language": "python",
   "name": "python3"
  },
  "language_info": {
   "codemirror_mode": {
    "name": "ipython",
    "version": 3
   },
   "file_extension": ".py",
   "mimetype": "text/x-python",
   "name": "python",
   "nbconvert_exporter": "python",
   "pygments_lexer": "ipython3",
   "version": "3.8.8"
  }
 },
 "nbformat": 4,
 "nbformat_minor": 5
}
