{
 "cells": [
  {
   "cell_type": "markdown",
   "id": "8893381d",
   "metadata": {},
   "source": [
    "# Lambda Expressions Map and Filter"
   ]
  },
  {
   "cell_type": "markdown",
   "id": "0bf57027",
   "metadata": {},
   "source": [
    "# Map Function"
   ]
  },
  {
   "cell_type": "code",
   "execution_count": 2,
   "id": "d3742355",
   "metadata": {},
   "outputs": [],
   "source": [
    "# Arguments to map functions\n",
    "\n",
    "# 1 argument\n",
    "def square(num):\n",
    "    return num**2\n",
    "\n",
    "# 2 argument\n",
    "my_list=[1,2,3,4,5]"
   ]
  },
  {
   "cell_type": "code",
   "execution_count": 5,
   "id": "36637e28",
   "metadata": {},
   "outputs": [
    {
     "data": {
      "text/plain": [
       "[1, 4, 9, 16, 25]"
      ]
     },
     "execution_count": 5,
     "metadata": {},
     "output_type": "execute_result"
    }
   ],
   "source": [
    "list(map(square,my_list))\n",
    " "
   ]
  },
  {
   "cell_type": "code",
   "execution_count": 6,
   "id": "f7d279a3",
   "metadata": {},
   "outputs": [],
   "source": [
    "def slicer(mystring):\n",
    "    if len(mystring)%2==0:\n",
    "        return 'EVEN'\n",
    "    else:\n",
    "        return mystring[0]"
   ]
  },
  {
   "cell_type": "code",
   "execution_count": 7,
   "id": "e341fc0a",
   "metadata": {},
   "outputs": [],
   "source": [
    "names=['Eve','Sally','Andy']"
   ]
  },
  {
   "cell_type": "code",
   "execution_count": 8,
   "id": "cdec7416",
   "metadata": {},
   "outputs": [
    {
     "data": {
      "text/plain": [
       "['E', 'S', 'EVEN']"
      ]
     },
     "execution_count": 8,
     "metadata": {},
     "output_type": "execute_result"
    }
   ],
   "source": [
    "# map function will apply the function to every element in the list\n",
    "list(map(slicer,names))  "
   ]
  },
  {
   "cell_type": "markdown",
   "id": "6024ce4e",
   "metadata": {},
   "source": [
    "# Filter Function"
   ]
  },
  {
   "cell_type": "code",
   "execution_count": 10,
   "id": "eb3c8987",
   "metadata": {},
   "outputs": [],
   "source": [
    "# 1 argument - a function that must return true or false\n",
    "\n",
    "def check_even(num):\n",
    "    return num%2==0"
   ]
  },
  {
   "cell_type": "code",
   "execution_count": 11,
   "id": "e6794069",
   "metadata": {},
   "outputs": [],
   "source": [
    "# 2 argument\n",
    "mynums=[1,2,3,4,5,6,7]"
   ]
  },
  {
   "cell_type": "code",
   "execution_count": 13,
   "id": "0fa41464",
   "metadata": {},
   "outputs": [
    {
     "data": {
      "text/plain": [
       "[2, 4, 6]"
      ]
     },
     "execution_count": 13,
     "metadata": {},
     "output_type": "execute_result"
    }
   ],
   "source": [
    "# the list will filter out the elements in the list \n",
    "# for which the condition is true\n",
    "list(filter(check_even,mynums))"
   ]
  },
  {
   "cell_type": "markdown",
   "id": "46468385",
   "metadata": {},
   "source": [
    "# Lambda Expression"
   ]
  },
  {
   "cell_type": "code",
   "execution_count": 15,
   "id": "722450d6",
   "metadata": {},
   "outputs": [],
   "source": [
    "def square(num):\n",
    "    return num**2"
   ]
  },
  {
   "cell_type": "code",
   "execution_count": 16,
   "id": "d8a39028",
   "metadata": {},
   "outputs": [
    {
     "data": {
      "text/plain": [
       "16"
      ]
     },
     "execution_count": 16,
     "metadata": {},
     "output_type": "execute_result"
    }
   ],
   "source": [
    "square(4)"
   ]
  },
  {
   "cell_type": "markdown",
   "id": "a0ec3d2b",
   "metadata": {},
   "source": [
    "To convert the above function into lambda replace def square by keyword \n",
    "lambda remove return as it is already assumed to return the value\n",
    "to call the lambda function assign it to a variable \n",
    "Usually lambda function are used on time only"
   ]
  },
  {
   "cell_type": "code",
   "execution_count": 20,
   "id": "504a0b4c",
   "metadata": {},
   "outputs": [],
   "source": [
    "square=lambda num:num**2"
   ]
  },
  {
   "cell_type": "code",
   "execution_count": 18,
   "id": "fda4f3fc",
   "metadata": {},
   "outputs": [
    {
     "data": {
      "text/plain": [
       "4"
      ]
     },
     "execution_count": 18,
     "metadata": {},
     "output_type": "execute_result"
    }
   ],
   "source": [
    "square(2)"
   ]
  },
  {
   "cell_type": "markdown",
   "id": "e143eed0",
   "metadata": {},
   "source": [
    "### Lambda function are usually used inside the map and filter functions"
   ]
  },
  {
   "cell_type": "code",
   "execution_count": 21,
   "id": "f95e874e",
   "metadata": {},
   "outputs": [
    {
     "data": {
      "text/plain": [
       "[121, 144, 169, 196, 225, 256]"
      ]
     },
     "execution_count": 21,
     "metadata": {},
     "output_type": "execute_result"
    }
   ],
   "source": [
    "# map with lambda functions\n",
    "list(map(lambda num:num**2,[11,12,13,14,15,16]))"
   ]
  },
  {
   "cell_type": "code",
   "execution_count": 26,
   "id": "9c62e730",
   "metadata": {},
   "outputs": [
    {
     "data": {
      "text/plain": [
       "[12, 14, 16, 18, 20]"
      ]
     },
     "execution_count": 26,
     "metadata": {},
     "output_type": "execute_result"
    }
   ],
   "source": [
    "# filter with lambda function\n",
    "list(filter(lambda num:num%2==0,[12,13,14,16,18,20]))"
   ]
  },
  {
   "cell_type": "code",
   "execution_count": 7,
   "id": "d1be01ae",
   "metadata": {},
   "outputs": [],
   "source": [
    "names=['Eve','Sally','Andy']"
   ]
  },
  {
   "cell_type": "code",
   "execution_count": 27,
   "id": "094d51bc",
   "metadata": {},
   "outputs": [
    {
     "data": {
      "text/plain": [
       "['E', 'S', 'A']"
      ]
     },
     "execution_count": 27,
     "metadata": {},
     "output_type": "execute_result"
    }
   ],
   "source": [
    "list(map(lambda x:x[0],names))"
   ]
  },
  {
   "cell_type": "code",
   "execution_count": null,
   "id": "7c8adbde",
   "metadata": {},
   "outputs": [],
   "source": []
  }
 ],
 "metadata": {
  "kernelspec": {
   "display_name": "Python 3 (ipykernel)",
   "language": "python",
   "name": "python3"
  },
  "language_info": {
   "codemirror_mode": {
    "name": "ipython",
    "version": 3
   },
   "file_extension": ".py",
   "mimetype": "text/x-python",
   "name": "python",
   "nbconvert_exporter": "python",
   "pygments_lexer": "ipython3",
   "version": "3.8.8"
  }
 },
 "nbformat": 4,
 "nbformat_minor": 5
}
