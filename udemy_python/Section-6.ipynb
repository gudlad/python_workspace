{
 "cells": [
  {
   "cell_type": "markdown",
   "id": "9ceaa981",
   "metadata": {},
   "source": [
    "# Lambda Expressions Map and Filter"
   ]
  },
  {
   "cell_type": "markdown",
   "id": "671490cb",
   "metadata": {},
   "source": [
    "# Map Function"
   ]
  },
  {
   "cell_type": "code",
   "execution_count": 2,
   "id": "60e67a82",
   "metadata": {},
   "outputs": [],
   "source": [
    "# Arguments to map functions\n",
    "\n",
    "# 1 argument\n",
    "def square(num):\n",
    "    return num**2\n",
    "\n",
    "# 2 argument\n",
    "my_list=[1,2,3,4,5]"
   ]
  },
  {
   "cell_type": "code",
   "execution_count": 5,
   "id": "3cf0a273",
   "metadata": {},
   "outputs": [
    {
     "data": {
      "text/plain": [
       "[1, 4, 9, 16, 25]"
      ]
     },
     "execution_count": 5,
     "metadata": {},
     "output_type": "execute_result"
    }
   ],
   "source": [
    "list(map(square,my_list))\n",
    " "
   ]
  },
  {
   "cell_type": "code",
   "execution_count": 6,
   "id": "316824b3",
   "metadata": {},
   "outputs": [],
   "source": [
    "def slicer(mystring):\n",
    "    if len(mystring)%2==0:\n",
    "        return 'EVEN'\n",
    "    else:\n",
    "        return mystring[0]"
   ]
  },
  {
   "cell_type": "code",
   "execution_count": 7,
   "id": "f952039b",
   "metadata": {},
   "outputs": [],
   "source": [
    "names=['Eve','Sally','Andy']"
   ]
  },
  {
   "cell_type": "code",
   "execution_count": 8,
   "id": "c53b09ee",
   "metadata": {},
   "outputs": [
    {
     "data": {
      "text/plain": [
       "['E', 'S', 'EVEN']"
      ]
     },
     "execution_count": 8,
     "metadata": {},
     "output_type": "execute_result"
    }
   ],
   "source": [
    "# map function will apply the function to every element in the list\n",
    "list(map(slicer,names))  "
   ]
  },
  {
   "cell_type": "markdown",
   "id": "8b847dd3",
   "metadata": {},
   "source": [
    "# Filter Function"
   ]
  },
  {
   "cell_type": "code",
   "execution_count": 10,
   "id": "7e50d3ff",
   "metadata": {},
   "outputs": [],
   "source": [
    "# 1 argument - a function that must return true or false\n",
    "\n",
    "def check_even(num):\n",
    "    return num%2==0"
   ]
  },
  {
   "cell_type": "code",
   "execution_count": 11,
   "id": "48b40d80",
   "metadata": {},
   "outputs": [],
   "source": [
    "# 2 argument\n",
    "mynums=[1,2,3,4,5,6,7]"
   ]
  },
  {
   "cell_type": "code",
   "execution_count": 13,
   "id": "78e41c51",
   "metadata": {},
   "outputs": [
    {
     "data": {
      "text/plain": [
       "[2, 4, 6]"
      ]
     },
     "execution_count": 13,
     "metadata": {},
     "output_type": "execute_result"
    }
   ],
   "source": [
    "# the list will filter out the elements in the list \n",
    "# for which the condition is true\n",
    "list(filter(check_even,mynums))"
   ]
  },
  {
   "cell_type": "markdown",
   "id": "88c70a98",
   "metadata": {},
   "source": [
    "# Lambda Expression"
   ]
  },
  {
   "cell_type": "code",
   "execution_count": 15,
   "id": "59bc08e7",
   "metadata": {},
   "outputs": [],
   "source": [
    "def square(num):\n",
    "    return num**2"
   ]
  },
  {
   "cell_type": "code",
   "execution_count": 16,
   "id": "67de13d2",
   "metadata": {},
   "outputs": [
    {
     "data": {
      "text/plain": [
       "16"
      ]
     },
     "execution_count": 16,
     "metadata": {},
     "output_type": "execute_result"
    }
   ],
   "source": [
    "square(4)"
   ]
  },
  {
   "cell_type": "markdown",
   "id": "af0c2658",
   "metadata": {},
   "source": [
    "To convert the above function into lambda replace def square by keyword \n",
    "lambda remove return as it is already assumed to return the value\n",
    "to call the lambda function assign it to a variable \n",
    "Usually lambda function are used on time only"
   ]
  },
  {
   "cell_type": "code",
   "execution_count": 20,
   "id": "b71ba991",
   "metadata": {},
   "outputs": [],
   "source": [
    "square=lambda num:num**2"
   ]
  },
  {
   "cell_type": "code",
   "execution_count": 18,
   "id": "2897a50b",
   "metadata": {},
   "outputs": [
    {
     "data": {
      "text/plain": [
       "4"
      ]
     },
     "execution_count": 18,
     "metadata": {},
     "output_type": "execute_result"
    }
   ],
   "source": [
    "square(2)"
   ]
  },
  {
   "cell_type": "markdown",
   "id": "6bab2c29",
   "metadata": {},
   "source": [
    "### Lambda function are usually used inside the map and filter functions"
   ]
  },
  {
   "cell_type": "code",
   "execution_count": 21,
   "id": "afa54d91",
   "metadata": {},
   "outputs": [
    {
     "data": {
      "text/plain": [
       "[121, 144, 169, 196, 225, 256]"
      ]
     },
     "execution_count": 21,
     "metadata": {},
     "output_type": "execute_result"
    }
   ],
   "source": [
    "# map with lambda functions\n",
    "list(map(lambda num:num**2,[11,12,13,14,15,16]))"
   ]
  },
  {
   "cell_type": "code",
   "execution_count": 26,
   "id": "87f193d2",
   "metadata": {},
   "outputs": [
    {
     "data": {
      "text/plain": [
       "[12, 14, 16, 18, 20]"
      ]
     },
     "execution_count": 26,
     "metadata": {},
     "output_type": "execute_result"
    }
   ],
   "source": [
    "# filter with lambda function\n",
    "list(filter(lambda num:num%2==0,[12,13,14,16,18,20]))"
   ]
  },
  {
   "cell_type": "code",
   "execution_count": 7,
   "id": "52ae84b1",
   "metadata": {},
   "outputs": [],
   "source": [
    "names=['Eve','Sally','Andy']"
   ]
  },
  {
   "cell_type": "code",
   "execution_count": 28,
   "id": "7ac6da77",
   "metadata": {},
   "outputs": [
    {
     "data": {
      "text/plain": [
       "['E', 'S', 'A']"
      ]
     },
     "execution_count": 28,
     "metadata": {},
     "output_type": "execute_result"
    }
   ],
   "source": [
    "list(map(lambda x:x[0],names))"
   ]
  },
  {
   "cell_type": "code",
   "execution_count": 29,
   "id": "7081dd61",
   "metadata": {},
   "outputs": [
    {
     "data": {
      "text/plain": [
       "['evE', 'yllaS', 'ydnA']"
      ]
     },
     "execution_count": 29,
     "metadata": {},
     "output_type": "execute_result"
    }
   ],
   "source": [
    "list(map(lambda x:x[::-1],names))"
   ]
  },
  {
   "cell_type": "code",
   "execution_count": null,
   "id": "e8415ac0",
   "metadata": {},
   "outputs": [],
   "source": []
  }
 ],
 "metadata": {
  "kernelspec": {
   "display_name": "Python 3 (ipykernel)",
   "language": "python",
   "name": "python3"
  },
  "language_info": {
   "codemirror_mode": {
    "name": "ipython",
    "version": 3
   },
   "file_extension": ".py",
   "mimetype": "text/x-python",
   "name": "python",
   "nbconvert_exporter": "python",
   "pygments_lexer": "ipython3",
   "version": "3.8.8"
  }
 },
 "nbformat": 4,
 "nbformat_minor": 5
}
