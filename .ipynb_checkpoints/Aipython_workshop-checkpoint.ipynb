{
 "cells": [
  {
   "cell_type": "code",
   "execution_count": 11,
   "id": "3e93bfb7",
   "metadata": {},
   "outputs": [
    {
     "name": "stdout",
     "output_type": "stream",
     "text": [
      "value of variabl1 is: 2\n",
      "value of variabl2 is: 4.5\n",
      "value of variabl3 is: Machine learning\n",
      "value of variabl4 is: True\n",
      "<class 'int'>\n",
      "<class 'float'>\n",
      "<class 'str'>\n",
      "<class 'bool'>\n"
     ]
    }
   ],
   "source": [
    "var1=2\n",
    "var2=4.5\n",
    "var3=\"Machine learning\"\n",
    "var4=True\n",
    "\n",
    "print(\"value of variabl1 is:\",var1)\n",
    "print(\"value of variabl2 is:\",var2)\n",
    "print(\"value of variabl3 is:\",var3)\n",
    "print(\"value of variabl4 is:\",var4)\n",
    "\n",
    "\n",
    "print(type(var1))\n",
    "print(type(var2))\n",
    "print(type(var3))\n",
    "print(type(var4))"
   ]
  },
  {
   "cell_type": "code",
   "execution_count": 12,
   "id": "28a5027d",
   "metadata": {},
   "outputs": [
    {
     "name": "stdout",
     "output_type": "stream",
     "text": [
      "Bigger than 1\n"
     ]
    }
   ],
   "source": [
    "if var1>1:\n",
    "    print(\"Bigger than 1\")\n",
    "else :\n",
    "    print(\"!!\")"
   ]
  },
  {
   "cell_type": "code",
   "execution_count": 13,
   "id": "267c87de",
   "metadata": {},
   "outputs": [
    {
     "name": "stdout",
     "output_type": "stream",
     "text": [
      "x < y\n"
     ]
    }
   ],
   "source": [
    "x=10\n",
    "y=12\n",
    "if x>y:\n",
    "    print(\"x > y\")\n",
    "elif x <y:\n",
    "    print(\"x < y\")\n",
    "else:\n",
    "    print(\"x = y\")"
   ]
  },
  {
   "cell_type": "code",
   "execution_count": 14,
   "id": "660c8197",
   "metadata": {},
   "outputs": [
    {
     "name": "stdout",
     "output_type": "stream",
     "text": [
      "False\n"
     ]
    }
   ],
   "source": [
    "x=5 \n",
    "isGreater=True if x>10 else False\n",
    "print(isGreater)"
   ]
  },
  {
   "cell_type": "code",
   "execution_count": 18,
   "id": "d06be101",
   "metadata": {},
   "outputs": [
    {
     "name": "stdout",
     "output_type": "stream",
     "text": [
      "range(1, 5)\n",
      "1 2 3 4 "
     ]
    }
   ],
   "source": [
    "numbers=range(1,5)\n",
    "print(numbers)\n",
    "for x in numbers:\n",
    "    print(x,end=\" \")"
   ]
  },
  {
   "cell_type": "markdown",
   "id": "4a2a9e6a",
   "metadata": {},
   "source": [
    "###### while loop\n"
   ]
  },
  {
   "cell_type": "code",
   "execution_count": 19,
   "id": "68619b8f",
   "metadata": {},
   "outputs": [
    {
     "name": "stdout",
     "output_type": "stream",
     "text": [
      "1\n",
      "2\n",
      "3\n",
      "4\n",
      "Done\n"
     ]
    }
   ],
   "source": [
    "i=1\n",
    "while i<5:\n",
    "    print(i)\n",
    "    i+=1\n",
    "print(\"Done\")"
   ]
  },
  {
   "cell_type": "markdown",
   "id": "193732c9",
   "metadata": {},
   "source": [
    "###### functions"
   ]
  },
  {
   "cell_type": "code",
   "execution_count": 22,
   "id": "39e67a2d",
   "metadata": {},
   "outputs": [
    {
     "name": "stdout",
     "output_type": "stream",
     "text": [
      "(1, 2, 3, 5)\n"
     ]
    }
   ],
   "source": [
    "t1=(1,2)\n",
    "t2=(3,5)\n",
    "def addElements(a,b):\n",
    "    return a+b\n",
    "print(addElements(t1,t2))"
   ]
  },
  {
   "cell_type": "code",
   "execution_count": 23,
   "id": "0e517dd7",
   "metadata": {},
   "outputs": [
    {
     "name": "stdout",
     "output_type": "stream",
     "text": [
      "8\n"
     ]
    }
   ],
   "source": [
    "def addElements(a,b=4):\n",
    "    return a+b\n",
    "print(addElements(4))"
   ]
  },
  {
   "cell_type": "markdown",
   "id": "59db5522",
   "metadata": {},
   "source": [
    "###### Working with collections"
   ]
  },
  {
   "cell_type": "code",
   "execution_count": 24,
   "id": "da7619c7",
   "metadata": {},
   "outputs": [
    {
     "name": "stdout",
     "output_type": "stream",
     "text": [
      "[]\n"
     ]
    }
   ],
   "source": [
    "#create empty list\n",
    "emptylist=[]\n",
    "print(emptylist)"
   ]
  },
  {
   "cell_type": "code",
   "execution_count": 25,
   "id": "d73ef578",
   "metadata": {},
   "outputs": [
    {
     "name": "stdout",
     "output_type": "stream",
     "text": [
      "['abd', 'warner', 'ashwin', 'bumra']\n"
     ]
    }
   ],
   "source": [
    "batsman=[\"abd\",\"warner\"]\n",
    "bowler=[\"ashwin\",\"bumra\"]\n",
    "allplayers=batsman+bowler\n",
    "print(allplayers)"
   ]
  },
  {
   "cell_type": "code",
   "execution_count": 26,
   "id": "33f1765c",
   "metadata": {},
   "outputs": [
    {
     "data": {
      "text/plain": [
       "True"
      ]
     },
     "execution_count": 26,
     "metadata": {},
     "output_type": "execute_result"
    }
   ],
   "source": [
    "\"abd\" in batsman"
   ]
  },
  {
   "cell_type": "code",
   "execution_count": 38,
   "id": "eff0eb51",
   "metadata": {},
   "outputs": [
    {
     "name": "stdout",
     "output_type": "stream",
     "text": [
      "b\n",
      "a\n",
      "3\n",
      "2\n",
      "1\n"
     ]
    }
   ],
   "source": [
    "#create a list and display all the elements using the for loop\n",
    "newlist=[1,2,3,\"a\",\"b\"]\n",
    "newlist.reverse()\n",
    "for i in newlist:\n",
    "    print(i)"
   ]
  },
  {
   "cell_type": "markdown",
   "id": "7428c4cf",
   "metadata": {},
   "source": [
    "###### set"
   ]
  },
  {
   "cell_type": "code",
   "execution_count": 44,
   "id": "0b291cb2",
   "metadata": {},
   "outputs": [
    {
     "name": "stdout",
     "output_type": "stream",
     "text": [
      "{1, 2, 3, 34, 4, 8, 12, 45}\n",
      "{1, 2, 3, 34, 4, 'd', 'a', 8, 's', 12, 45}\n"
     ]
    }
   ],
   "source": [
    "setofnumbers={3,2,1,34,12,4,8,45}\n",
    "print(setofnumbers)\n",
    "setofalphabets={\"a\",\"s\",\"d\"}\n",
    "print(setofnumbers.union(setofalphabets))"
   ]
  },
  {
   "cell_type": "markdown",
   "id": "ee6c806f",
   "metadata": {},
   "source": [
    "###### strings"
   ]
  },
  {
   "cell_type": "code",
   "execution_count": 49,
   "id": "6f2241c8",
   "metadata": {},
   "outputs": [
    {
     "name": "stdout",
     "output_type": "stream",
     "text": [
      "Machine    learning    ['course', 'in', 'udemy']\n"
     ]
    }
   ],
   "source": [
    "s1,s2,*s3=\"Machine learning course in udemy\".split(\" \")\n",
    "print(s1,s2,s3,sep=\"    \")"
   ]
  },
  {
   "cell_type": "markdown",
   "id": "565c74f2",
   "metadata": {},
   "source": [
    "###### Working with Libraries"
   ]
  },
  {
   "cell_type": "code",
   "execution_count": 3,
   "id": "4701ca4b",
   "metadata": {},
   "outputs": [
    {
     "name": "stdout",
     "output_type": "stream",
     "text": [
      "1.21.0\n"
     ]
    }
   ],
   "source": [
    "import numpy\n",
    "print(numpy.__version__)"
   ]
  },
  {
   "cell_type": "code",
   "execution_count": 4,
   "id": "6aa78d29",
   "metadata": {},
   "outputs": [
    {
     "name": "stdout",
     "output_type": "stream",
     "text": [
      "1.3.0\n"
     ]
    }
   ],
   "source": [
    "import pandas \n",
    "print(pandas.__version__)"
   ]
  },
  {
   "cell_type": "code",
   "execution_count": 8,
   "id": "f6327cfc",
   "metadata": {},
   "outputs": [],
   "source": [
    "import warnings\n",
    "warnings.filterwarnings('ignore')"
   ]
  },
  {
   "cell_type": "code",
   "execution_count": 9,
   "id": "b7ec642f",
   "metadata": {},
   "outputs": [],
   "source": [
    "import datetime as dt"
   ]
  },
  {
   "cell_type": "code",
   "execution_count": 1,
   "id": "23e1e620",
   "metadata": {},
   "outputs": [],
   "source": [
    "import yfinance as yf"
   ]
  },
  {
   "cell_type": "code",
   "execution_count": 2,
   "id": "89a3671d",
   "metadata": {},
   "outputs": [],
   "source": [
    "import plotly.express as px"
   ]
  },
  {
   "cell_type": "code",
   "execution_count": 1,
   "id": "f47fa5aa",
   "metadata": {},
   "outputs": [],
   "source": [
    "import plotly.graph_objs as go"
   ]
  },
  {
   "cell_type": "code",
   "execution_count": null,
   "id": "ade3a9a0",
   "metadata": {},
   "outputs": [],
   "source": []
  }
 ],
 "metadata": {
  "kernelspec": {
   "display_name": "Python 3 (ipykernel)",
   "language": "python",
   "name": "python3"
  },
  "language_info": {
   "codemirror_mode": {
    "name": "ipython",
    "version": 3
   },
   "file_extension": ".py",
   "mimetype": "text/x-python",
   "name": "python",
   "nbconvert_exporter": "python",
   "pygments_lexer": "ipython3",
   "version": "3.8.8"
  }
 },
 "nbformat": 4,
 "nbformat_minor": 5
}
